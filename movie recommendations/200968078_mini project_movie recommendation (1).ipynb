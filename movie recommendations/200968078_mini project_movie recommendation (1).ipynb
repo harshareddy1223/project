{
 "cells": [
  {
   "cell_type": "markdown",
   "id": "abb9d310",
   "metadata": {},
   "source": [
    "## Meta data"
   ]
  },
  {
   "cell_type": "markdown",
   "id": "67e69149",
   "metadata": {},
   "source": [
    "* This dataset (ml-latest-small) describes 5-star rating and free-text tagging activity from [MovieLens](http://movielens.org), a movie recommendation service. \n",
    "* It contains 100836 ratings and 3683 tag applications across 9742 movies. \n",
    "* These data were created by 610 users between March 29, 1996 and September 24, 2018. This dataset was generated on September 26, 2018.\n",
    "* All selected users had rated at least 20 movies. No demographic information is included. Each user is represented by an id, and no other information is provided.\n",
    "* User Ids-MovieLens users were selected at random for inclusion. Their ids have been anonymized. User ids are consistent between  `ratings.csv` and `tags.csv` (i.e., the same id refers to the same user across the two files).\n",
    "* Movie Ids- Only movies with at least one rating or tag are included in the dataset. These movie ids are consistent with those used on the MovieLens web site (e.g., id `1` corresponds to the URL <https://movielens.org/movies/1>). Movie ids are consistent between `ratings.csv`, `tags.csv`, `movies.csv`, and `links.csv` (i.e., the same id refers to the same movie across these four data files).\n",
    "\n"
   ]
  },
  {
   "cell_type": "markdown",
   "id": "dfb40b07",
   "metadata": {},
   "source": [
    "### Ratings Data File Structure (ratings.csv)-\n",
    "All ratings are contained in the file `ratings.csv`. Each line of this file after the header row represents one rating of one movie by one user, and has the following format:\n",
    "userId,movieId,rating,timestamp\n",
    "\n",
    "The lines within this file are ordered first by userId, then, within user, by movieId.\n",
    "\n",
    "Ratings are made on a 5-star scale, with half-star increments (0.5 stars - 5.0 stars).\n",
    "\n",
    "Timestamps represent seconds since midnight Coordinated Universal Time (UTC) of January 1, 1970."
   ]
  },
  {
   "cell_type": "markdown",
   "id": "405917fd",
   "metadata": {},
   "source": [
    "### Movies Data File Structure (movies.csv)\n",
    "Movie information is contained in the file `movies.csv`. Each line of this file after the header row represents one movie, and has the following format:\n",
    "\n",
    "    movieId,title,genres\n",
    "\n",
    "Movie titles are entered manually or imported from <https://www.themoviedb.org/>, and include the year of release in parentheses. Errors and inconsistencies may exist in these titles.\n",
    "\n",
    "Genres are a pipe-separated list, and are selected from the following:\n",
    "\n",
    "* Action\n",
    "* Adventure\n",
    "* Animation\n",
    "* Children's\n",
    "* Comedy\n",
    "* Crime\n",
    "* Documentary\n",
    "* Drama\n",
    "* Fantasy\n",
    "* Film-Noir\n",
    "* Horror\n",
    "* Musical\n",
    "* Mystery\n",
    "* Romance\n",
    "* Sci-Fi\n",
    "* Thriller\n",
    "* War\n",
    "* Western\n",
    "* (no genres listed)"
   ]
  },
  {
   "cell_type": "markdown",
   "id": "3839b718",
   "metadata": {},
   "source": [
    "### Links Data File Structure (links.csv)-\n",
    "Identifiers that can be used to link to other sources of movie data are contained in the file `links.csv`. Each line of this file after the header row represents one movie, and has the following format:\n",
    "\n",
    "    movieId,imdbId,tmdbId\n",
    "\n",
    "movieId is an identifier for movies used by <https://movielens.org>. E.g., the movie Toy Story has the link <https://movielens.org/movies/1>.\n",
    "\n",
    "imdbId is an identifier for movies used by <http://www.imdb.com>. E.g., the movie Toy Story has the link <http://www.imdb.com/title/tt0114709/>.\n",
    "\n",
    "tmdbId is an identifier for movies used by <https://www.themoviedb.org>. E.g., the movie Toy Story has the link <https://www.themoviedb.org/movie/862>."
   ]
  },
  {
   "cell_type": "markdown",
   "id": "816c418e",
   "metadata": {},
   "source": [
    "### Tags Data File Structure (tags.csv)-\n",
    "All tags are contained in the file `tags.csv`. Each line of this file after the header row represents one tag applied to one movie by one user, and has the following format:\n",
    "userId,movieId,tag,timestamp\n",
    "\n",
    "The lines within this file are ordered first by userId, then, within user, by movieId.\n",
    "\n",
    "Tags are user-generated metadata about movies. Each tag is typically a single word or short phrase. The meaning, value, and purpose of a particular tag is determined by each user.\n",
    "\n",
    "Timestamps represent seconds since midnight Coordinated Universal Time (UTC) of January 1, 1970.\n"
   ]
  },
  {
   "cell_type": "markdown",
   "id": "1be674d7",
   "metadata": {},
   "source": [
    "## Objective of the project"
   ]
  },
  {
   "cell_type": "markdown",
   "id": "7bb7e4df",
   "metadata": {},
   "source": [
    "To make a Recommender System using the MovieLens dataset to recommended movies to users---\n",
    "Model used in the recommneder system will be content based filtering based on genres and tags and evaluate using Knn classification. Will try to build a hybrid model- Content based filtering + Model Based Collabrative filtering (mostly SVD may vary) as the Content based filtering will determine the movies which we want to recommend to the user and MC \n",
    "Filter to sort the recommendations of CF using SVD predicted ratings "
   ]
  },
  {
   "cell_type": "markdown",
   "id": "3480f4c1",
   "metadata": {},
   "source": [
    "## ML Techniques Being Used"
   ]
  },
  {
   "cell_type": "markdown",
   "id": "83445eff",
   "metadata": {},
   "source": [
    "* The following techniques are not final and may vary depending on the further development of the project\n",
    "* **PANDAS** FOR DATA MANIPULATION\n",
    "* **NUMPY** FOR MANIPULATING ARRAYS\n",
    "* **SEABORN** AND MATPLOTLIB FOR PLOTTING VARIOUS GRAPHS\n",
    "* **SKLEARN** FOR THE BASE ML MODEL\n",
    "* **FASTAPI** FOR DEPLOYMENT\n"
   ]
  },
  {
   "cell_type": "markdown",
   "id": "4b1d5112",
   "metadata": {},
   "source": [
    "## Importing Libraries"
   ]
  },
  {
   "cell_type": "code",
   "execution_count": 2,
   "id": "9a98f777",
   "metadata": {},
   "outputs": [],
   "source": [
    "import warnings\n",
    "warnings.filterwarnings('ignore')\n",
    "\n",
    "import numpy as np\n",
    "import pandas as pd\n",
    "import matplotlib.pyplot as plt\n",
    "import seaborn as sns"
   ]
  },
  {
   "cell_type": "markdown",
   "id": "69b5982e",
   "metadata": {},
   "source": [
    "## Dataset : Movielens"
   ]
  },
  {
   "cell_type": "code",
   "execution_count": 3,
   "id": "379079b0",
   "metadata": {},
   "outputs": [
    {
     "data": {
      "text/html": [
       "<div>\n",
       "<style scoped>\n",
       "    .dataframe tbody tr th:only-of-type {\n",
       "        vertical-align: middle;\n",
       "    }\n",
       "\n",
       "    .dataframe tbody tr th {\n",
       "        vertical-align: top;\n",
       "    }\n",
       "\n",
       "    .dataframe thead th {\n",
       "        text-align: right;\n",
       "    }\n",
       "</style>\n",
       "<table border=\"1\" class=\"dataframe\">\n",
       "  <thead>\n",
       "    <tr style=\"text-align: right;\">\n",
       "      <th></th>\n",
       "      <th>movieId</th>\n",
       "      <th>title</th>\n",
       "      <th>genres</th>\n",
       "    </tr>\n",
       "  </thead>\n",
       "  <tbody>\n",
       "    <tr>\n",
       "      <th>0</th>\n",
       "      <td>1</td>\n",
       "      <td>Toy Story (1995)</td>\n",
       "      <td>Adventure|Animation|Children|Comedy|Fantasy</td>\n",
       "    </tr>\n",
       "    <tr>\n",
       "      <th>1</th>\n",
       "      <td>2</td>\n",
       "      <td>Jumanji (1995)</td>\n",
       "      <td>Adventure|Children|Fantasy</td>\n",
       "    </tr>\n",
       "    <tr>\n",
       "      <th>2</th>\n",
       "      <td>3</td>\n",
       "      <td>Grumpier Old Men (1995)</td>\n",
       "      <td>Comedy|Romance</td>\n",
       "    </tr>\n",
       "    <tr>\n",
       "      <th>3</th>\n",
       "      <td>4</td>\n",
       "      <td>Waiting to Exhale (1995)</td>\n",
       "      <td>Comedy|Drama|Romance</td>\n",
       "    </tr>\n",
       "    <tr>\n",
       "      <th>4</th>\n",
       "      <td>5</td>\n",
       "      <td>Father of the Bride Part II (1995)</td>\n",
       "      <td>Comedy</td>\n",
       "    </tr>\n",
       "  </tbody>\n",
       "</table>\n",
       "</div>"
      ],
      "text/plain": [
       "   movieId                               title  \\\n",
       "0        1                    Toy Story (1995)   \n",
       "1        2                      Jumanji (1995)   \n",
       "2        3             Grumpier Old Men (1995)   \n",
       "3        4            Waiting to Exhale (1995)   \n",
       "4        5  Father of the Bride Part II (1995)   \n",
       "\n",
       "                                        genres  \n",
       "0  Adventure|Animation|Children|Comedy|Fantasy  \n",
       "1                   Adventure|Children|Fantasy  \n",
       "2                               Comedy|Romance  \n",
       "3                         Comedy|Drama|Romance  \n",
       "4                                       Comedy  "
      ]
     },
     "execution_count": 3,
     "metadata": {},
     "output_type": "execute_result"
    }
   ],
   "source": [
    "# Reading movies file\n",
    "df_movies=pd.read_csv('movies.csv')\n",
    "df_movies.head()"
   ]
  },
  {
   "cell_type": "code",
   "execution_count": 4,
   "id": "9791877e",
   "metadata": {},
   "outputs": [
    {
     "name": "stdout",
     "output_type": "stream",
     "text": [
      "<class 'pandas.core.frame.DataFrame'>\n",
      "RangeIndex: 9742 entries, 0 to 9741\n",
      "Data columns (total 3 columns):\n",
      " #   Column   Non-Null Count  Dtype \n",
      "---  ------   --------------  ----- \n",
      " 0   movieId  9742 non-null   int64 \n",
      " 1   title    9742 non-null   object\n",
      " 2   genres   9742 non-null   object\n",
      "dtypes: int64(1), object(2)\n",
      "memory usage: 228.5+ KB\n"
     ]
    }
   ],
   "source": [
    "df_movies.info()"
   ]
  },
  {
   "cell_type": "code",
   "execution_count": 5,
   "id": "fd48e60a",
   "metadata": {},
   "outputs": [
    {
     "data": {
      "text/html": [
       "<div>\n",
       "<style scoped>\n",
       "    .dataframe tbody tr th:only-of-type {\n",
       "        vertical-align: middle;\n",
       "    }\n",
       "\n",
       "    .dataframe tbody tr th {\n",
       "        vertical-align: top;\n",
       "    }\n",
       "\n",
       "    .dataframe thead th {\n",
       "        text-align: right;\n",
       "    }\n",
       "</style>\n",
       "<table border=\"1\" class=\"dataframe\">\n",
       "  <thead>\n",
       "    <tr style=\"text-align: right;\">\n",
       "      <th></th>\n",
       "      <th>movieId</th>\n",
       "      <th>imdbId</th>\n",
       "      <th>tmdbId</th>\n",
       "    </tr>\n",
       "  </thead>\n",
       "  <tbody>\n",
       "    <tr>\n",
       "      <th>0</th>\n",
       "      <td>1</td>\n",
       "      <td>114709</td>\n",
       "      <td>862.0</td>\n",
       "    </tr>\n",
       "    <tr>\n",
       "      <th>1</th>\n",
       "      <td>2</td>\n",
       "      <td>113497</td>\n",
       "      <td>8844.0</td>\n",
       "    </tr>\n",
       "    <tr>\n",
       "      <th>2</th>\n",
       "      <td>3</td>\n",
       "      <td>113228</td>\n",
       "      <td>15602.0</td>\n",
       "    </tr>\n",
       "    <tr>\n",
       "      <th>3</th>\n",
       "      <td>4</td>\n",
       "      <td>114885</td>\n",
       "      <td>31357.0</td>\n",
       "    </tr>\n",
       "    <tr>\n",
       "      <th>4</th>\n",
       "      <td>5</td>\n",
       "      <td>113041</td>\n",
       "      <td>11862.0</td>\n",
       "    </tr>\n",
       "  </tbody>\n",
       "</table>\n",
       "</div>"
      ],
      "text/plain": [
       "   movieId  imdbId   tmdbId\n",
       "0        1  114709    862.0\n",
       "1        2  113497   8844.0\n",
       "2        3  113228  15602.0\n",
       "3        4  114885  31357.0\n",
       "4        5  113041  11862.0"
      ]
     },
     "execution_count": 5,
     "metadata": {},
     "output_type": "execute_result"
    }
   ],
   "source": [
    "# Reading links file\n",
    "df_links=pd.read_csv('links.csv')\n",
    "df_links.head()"
   ]
  },
  {
   "cell_type": "code",
   "execution_count": 6,
   "id": "2f78e224",
   "metadata": {},
   "outputs": [
    {
     "name": "stdout",
     "output_type": "stream",
     "text": [
      "<class 'pandas.core.frame.DataFrame'>\n",
      "RangeIndex: 9742 entries, 0 to 9741\n",
      "Data columns (total 3 columns):\n",
      " #   Column   Non-Null Count  Dtype  \n",
      "---  ------   --------------  -----  \n",
      " 0   movieId  9742 non-null   int64  \n",
      " 1   imdbId   9742 non-null   int64  \n",
      " 2   tmdbId   9734 non-null   float64\n",
      "dtypes: float64(1), int64(2)\n",
      "memory usage: 228.5 KB\n"
     ]
    }
   ],
   "source": [
    "df_links.info()"
   ]
  },
  {
   "cell_type": "code",
   "execution_count": 7,
   "id": "e63ba85b",
   "metadata": {},
   "outputs": [
    {
     "data": {
      "text/html": [
       "<div>\n",
       "<style scoped>\n",
       "    .dataframe tbody tr th:only-of-type {\n",
       "        vertical-align: middle;\n",
       "    }\n",
       "\n",
       "    .dataframe tbody tr th {\n",
       "        vertical-align: top;\n",
       "    }\n",
       "\n",
       "    .dataframe thead th {\n",
       "        text-align: right;\n",
       "    }\n",
       "</style>\n",
       "<table border=\"1\" class=\"dataframe\">\n",
       "  <thead>\n",
       "    <tr style=\"text-align: right;\">\n",
       "      <th></th>\n",
       "      <th>userId</th>\n",
       "      <th>movieId</th>\n",
       "      <th>rating</th>\n",
       "      <th>timestamp</th>\n",
       "    </tr>\n",
       "  </thead>\n",
       "  <tbody>\n",
       "    <tr>\n",
       "      <th>0</th>\n",
       "      <td>1</td>\n",
       "      <td>1</td>\n",
       "      <td>4.0</td>\n",
       "      <td>964982703</td>\n",
       "    </tr>\n",
       "    <tr>\n",
       "      <th>1</th>\n",
       "      <td>1</td>\n",
       "      <td>3</td>\n",
       "      <td>4.0</td>\n",
       "      <td>964981247</td>\n",
       "    </tr>\n",
       "    <tr>\n",
       "      <th>2</th>\n",
       "      <td>1</td>\n",
       "      <td>6</td>\n",
       "      <td>4.0</td>\n",
       "      <td>964982224</td>\n",
       "    </tr>\n",
       "    <tr>\n",
       "      <th>3</th>\n",
       "      <td>1</td>\n",
       "      <td>47</td>\n",
       "      <td>5.0</td>\n",
       "      <td>964983815</td>\n",
       "    </tr>\n",
       "    <tr>\n",
       "      <th>4</th>\n",
       "      <td>1</td>\n",
       "      <td>50</td>\n",
       "      <td>5.0</td>\n",
       "      <td>964982931</td>\n",
       "    </tr>\n",
       "  </tbody>\n",
       "</table>\n",
       "</div>"
      ],
      "text/plain": [
       "   userId  movieId  rating  timestamp\n",
       "0       1        1     4.0  964982703\n",
       "1       1        3     4.0  964981247\n",
       "2       1        6     4.0  964982224\n",
       "3       1       47     5.0  964983815\n",
       "4       1       50     5.0  964982931"
      ]
     },
     "execution_count": 7,
     "metadata": {},
     "output_type": "execute_result"
    }
   ],
   "source": [
    "# Reading ratings file\n",
    "df_ratings=pd.read_csv('ratings.csv')\n",
    "df_ratings.head()"
   ]
  },
  {
   "cell_type": "code",
   "execution_count": 8,
   "id": "f72d5cbf",
   "metadata": {},
   "outputs": [
    {
     "name": "stdout",
     "output_type": "stream",
     "text": [
      "<class 'pandas.core.frame.DataFrame'>\n",
      "RangeIndex: 100836 entries, 0 to 100835\n",
      "Data columns (total 4 columns):\n",
      " #   Column     Non-Null Count   Dtype  \n",
      "---  ------     --------------   -----  \n",
      " 0   userId     100836 non-null  int64  \n",
      " 1   movieId    100836 non-null  int64  \n",
      " 2   rating     100836 non-null  float64\n",
      " 3   timestamp  100836 non-null  int64  \n",
      "dtypes: float64(1), int64(3)\n",
      "memory usage: 3.1 MB\n"
     ]
    }
   ],
   "source": [
    "df_ratings.info()"
   ]
  },
  {
   "cell_type": "code",
   "execution_count": 9,
   "id": "54d21e79",
   "metadata": {},
   "outputs": [
    {
     "data": {
      "text/html": [
       "<div>\n",
       "<style scoped>\n",
       "    .dataframe tbody tr th:only-of-type {\n",
       "        vertical-align: middle;\n",
       "    }\n",
       "\n",
       "    .dataframe tbody tr th {\n",
       "        vertical-align: top;\n",
       "    }\n",
       "\n",
       "    .dataframe thead th {\n",
       "        text-align: right;\n",
       "    }\n",
       "</style>\n",
       "<table border=\"1\" class=\"dataframe\">\n",
       "  <thead>\n",
       "    <tr style=\"text-align: right;\">\n",
       "      <th></th>\n",
       "      <th>userId</th>\n",
       "      <th>movieId</th>\n",
       "      <th>tag</th>\n",
       "      <th>timestamp</th>\n",
       "    </tr>\n",
       "  </thead>\n",
       "  <tbody>\n",
       "    <tr>\n",
       "      <th>0</th>\n",
       "      <td>2</td>\n",
       "      <td>60756</td>\n",
       "      <td>funny</td>\n",
       "      <td>1445714994</td>\n",
       "    </tr>\n",
       "    <tr>\n",
       "      <th>1</th>\n",
       "      <td>2</td>\n",
       "      <td>60756</td>\n",
       "      <td>Highly quotable</td>\n",
       "      <td>1445714996</td>\n",
       "    </tr>\n",
       "    <tr>\n",
       "      <th>2</th>\n",
       "      <td>2</td>\n",
       "      <td>60756</td>\n",
       "      <td>will ferrell</td>\n",
       "      <td>1445714992</td>\n",
       "    </tr>\n",
       "    <tr>\n",
       "      <th>3</th>\n",
       "      <td>2</td>\n",
       "      <td>89774</td>\n",
       "      <td>Boxing story</td>\n",
       "      <td>1445715207</td>\n",
       "    </tr>\n",
       "    <tr>\n",
       "      <th>4</th>\n",
       "      <td>2</td>\n",
       "      <td>89774</td>\n",
       "      <td>MMA</td>\n",
       "      <td>1445715200</td>\n",
       "    </tr>\n",
       "  </tbody>\n",
       "</table>\n",
       "</div>"
      ],
      "text/plain": [
       "   userId  movieId              tag   timestamp\n",
       "0       2    60756            funny  1445714994\n",
       "1       2    60756  Highly quotable  1445714996\n",
       "2       2    60756     will ferrell  1445714992\n",
       "3       2    89774     Boxing story  1445715207\n",
       "4       2    89774              MMA  1445715200"
      ]
     },
     "execution_count": 9,
     "metadata": {},
     "output_type": "execute_result"
    }
   ],
   "source": [
    "# Reading tags file\n",
    "df_tags=pd.read_csv('tags.csv')\n",
    "df_tags.head()"
   ]
  },
  {
   "cell_type": "code",
   "execution_count": 10,
   "id": "b193fd94",
   "metadata": {},
   "outputs": [
    {
     "name": "stdout",
     "output_type": "stream",
     "text": [
      "<class 'pandas.core.frame.DataFrame'>\n",
      "RangeIndex: 3683 entries, 0 to 3682\n",
      "Data columns (total 4 columns):\n",
      " #   Column     Non-Null Count  Dtype \n",
      "---  ------     --------------  ----- \n",
      " 0   userId     3683 non-null   int64 \n",
      " 1   movieId    3683 non-null   int64 \n",
      " 2   tag        3683 non-null   object\n",
      " 3   timestamp  3683 non-null   int64 \n",
      "dtypes: int64(3), object(1)\n",
      "memory usage: 115.2+ KB\n"
     ]
    }
   ],
   "source": [
    "df_tags.info()"
   ]
  },
  {
   "cell_type": "code",
   "execution_count": 11,
   "id": "a83f6a3c",
   "metadata": {},
   "outputs": [
    {
     "name": "stdout",
     "output_type": "stream",
     "text": [
      "Shape of frames: \n",
      " Rating DataFrame(100836, 4)\n",
      " Movies DataFrame(9742, 3)\n",
      " Tags DataFrame(3683, 4)\n",
      " Links DataFrame(9742, 3)\n"
     ]
    }
   ],
   "source": [
    "print(\"Shape of frames: \\n\"+ \" Rating DataFrame\"+ str(df_ratings.shape)+\"\\n Movies DataFrame\"+ str(df_movies.shape)+\"\\n Tags DataFrame\"+str(df_tags.shape)+\"\\n Links DataFrame\"+str(df_links.shape))"
   ]
  },
  {
   "cell_type": "markdown",
   "id": "55d53cc0",
   "metadata": {},
   "source": [
    "## Exploratory Data Analysis (EDA) "
   ]
  },
  {
   "cell_type": "code",
   "execution_count": 12,
   "id": "25eabc03",
   "metadata": {},
   "outputs": [
    {
     "data": {
      "text/html": [
       "<div>\n",
       "<style scoped>\n",
       "    .dataframe tbody tr th:only-of-type {\n",
       "        vertical-align: middle;\n",
       "    }\n",
       "\n",
       "    .dataframe tbody tr th {\n",
       "        vertical-align: top;\n",
       "    }\n",
       "\n",
       "    .dataframe thead th {\n",
       "        text-align: right;\n",
       "    }\n",
       "</style>\n",
       "<table border=\"1\" class=\"dataframe\">\n",
       "  <thead>\n",
       "    <tr style=\"text-align: right;\">\n",
       "      <th></th>\n",
       "      <th>movieId</th>\n",
       "      <th>title</th>\n",
       "      <th>genres</th>\n",
       "      <th>userId</th>\n",
       "      <th>rating</th>\n",
       "    </tr>\n",
       "  </thead>\n",
       "  <tbody>\n",
       "    <tr>\n",
       "      <th>0</th>\n",
       "      <td>1</td>\n",
       "      <td>Toy Story (1995)</td>\n",
       "      <td>Adventure|Animation|Children|Comedy|Fantasy</td>\n",
       "      <td>1</td>\n",
       "      <td>4.0</td>\n",
       "    </tr>\n",
       "    <tr>\n",
       "      <th>1</th>\n",
       "      <td>1</td>\n",
       "      <td>Toy Story (1995)</td>\n",
       "      <td>Adventure|Animation|Children|Comedy|Fantasy</td>\n",
       "      <td>5</td>\n",
       "      <td>4.0</td>\n",
       "    </tr>\n",
       "    <tr>\n",
       "      <th>2</th>\n",
       "      <td>1</td>\n",
       "      <td>Toy Story (1995)</td>\n",
       "      <td>Adventure|Animation|Children|Comedy|Fantasy</td>\n",
       "      <td>7</td>\n",
       "      <td>4.5</td>\n",
       "    </tr>\n",
       "    <tr>\n",
       "      <th>3</th>\n",
       "      <td>1</td>\n",
       "      <td>Toy Story (1995)</td>\n",
       "      <td>Adventure|Animation|Children|Comedy|Fantasy</td>\n",
       "      <td>15</td>\n",
       "      <td>2.5</td>\n",
       "    </tr>\n",
       "    <tr>\n",
       "      <th>4</th>\n",
       "      <td>1</td>\n",
       "      <td>Toy Story (1995)</td>\n",
       "      <td>Adventure|Animation|Children|Comedy|Fantasy</td>\n",
       "      <td>17</td>\n",
       "      <td>4.5</td>\n",
       "    </tr>\n",
       "  </tbody>\n",
       "</table>\n",
       "</div>"
      ],
      "text/plain": [
       "   movieId             title                                       genres  \\\n",
       "0        1  Toy Story (1995)  Adventure|Animation|Children|Comedy|Fantasy   \n",
       "1        1  Toy Story (1995)  Adventure|Animation|Children|Comedy|Fantasy   \n",
       "2        1  Toy Story (1995)  Adventure|Animation|Children|Comedy|Fantasy   \n",
       "3        1  Toy Story (1995)  Adventure|Animation|Children|Comedy|Fantasy   \n",
       "4        1  Toy Story (1995)  Adventure|Animation|Children|Comedy|Fantasy   \n",
       "\n",
       "   userId  rating  \n",
       "0       1     4.0  \n",
       "1       5     4.0  \n",
       "2       7     4.5  \n",
       "3      15     2.5  \n",
       "4      17     4.5  "
      ]
     },
     "execution_count": 12,
     "metadata": {},
     "output_type": "execute_result"
    }
   ],
   "source": [
    "# Merging the movies and rating dataset\n",
    "df_merge_rm=pd.merge(df_movies,df_ratings,on='movieId')\n",
    "df_merge_rm=df_merge_rm.drop('timestamp',axis=1)\n",
    "df_merge_rm.head()"
   ]
  },
  {
   "cell_type": "code",
   "execution_count": 13,
   "id": "bf2ffbfc",
   "metadata": {},
   "outputs": [
    {
     "data": {
      "text/plain": [
       "movieId    0\n",
       "title      0\n",
       "genres     0\n",
       "userId     0\n",
       "rating     0\n",
       "dtype: int64"
      ]
     },
     "execution_count": 13,
     "metadata": {},
     "output_type": "execute_result"
    }
   ],
   "source": [
    "#To check for any missing values \n",
    "df_merge_rm.isnull().sum()\n",
    "#As we can see there are no missing values in the table"
   ]
  },
  {
   "cell_type": "code",
   "execution_count": 14,
   "id": "6234dd4e",
   "metadata": {},
   "outputs": [
    {
     "data": {
      "text/html": [
       "<div>\n",
       "<style scoped>\n",
       "    .dataframe tbody tr th:only-of-type {\n",
       "        vertical-align: middle;\n",
       "    }\n",
       "\n",
       "    .dataframe tbody tr th {\n",
       "        vertical-align: top;\n",
       "    }\n",
       "\n",
       "    .dataframe thead th {\n",
       "        text-align: right;\n",
       "    }\n",
       "</style>\n",
       "<table border=\"1\" class=\"dataframe\">\n",
       "  <thead>\n",
       "    <tr style=\"text-align: right;\">\n",
       "      <th></th>\n",
       "      <th>movieId</th>\n",
       "      <th>title</th>\n",
       "      <th>genres</th>\n",
       "      <th>userId</th>\n",
       "      <th>tag</th>\n",
       "    </tr>\n",
       "  </thead>\n",
       "  <tbody>\n",
       "    <tr>\n",
       "      <th>0</th>\n",
       "      <td>1</td>\n",
       "      <td>Toy Story (1995)</td>\n",
       "      <td>Adventure|Animation|Children|Comedy|Fantasy</td>\n",
       "      <td>336</td>\n",
       "      <td>pixar</td>\n",
       "    </tr>\n",
       "    <tr>\n",
       "      <th>1</th>\n",
       "      <td>1</td>\n",
       "      <td>Toy Story (1995)</td>\n",
       "      <td>Adventure|Animation|Children|Comedy|Fantasy</td>\n",
       "      <td>474</td>\n",
       "      <td>pixar</td>\n",
       "    </tr>\n",
       "    <tr>\n",
       "      <th>2</th>\n",
       "      <td>1</td>\n",
       "      <td>Toy Story (1995)</td>\n",
       "      <td>Adventure|Animation|Children|Comedy|Fantasy</td>\n",
       "      <td>567</td>\n",
       "      <td>fun</td>\n",
       "    </tr>\n",
       "    <tr>\n",
       "      <th>3</th>\n",
       "      <td>2</td>\n",
       "      <td>Jumanji (1995)</td>\n",
       "      <td>Adventure|Children|Fantasy</td>\n",
       "      <td>62</td>\n",
       "      <td>fantasy</td>\n",
       "    </tr>\n",
       "    <tr>\n",
       "      <th>4</th>\n",
       "      <td>2</td>\n",
       "      <td>Jumanji (1995)</td>\n",
       "      <td>Adventure|Children|Fantasy</td>\n",
       "      <td>62</td>\n",
       "      <td>magic board game</td>\n",
       "    </tr>\n",
       "    <tr>\n",
       "      <th>...</th>\n",
       "      <td>...</td>\n",
       "      <td>...</td>\n",
       "      <td>...</td>\n",
       "      <td>...</td>\n",
       "      <td>...</td>\n",
       "    </tr>\n",
       "    <tr>\n",
       "      <th>3678</th>\n",
       "      <td>187595</td>\n",
       "      <td>Solo: A Star Wars Story (2018)</td>\n",
       "      <td>Action|Adventure|Children|Sci-Fi</td>\n",
       "      <td>62</td>\n",
       "      <td>star wars</td>\n",
       "    </tr>\n",
       "    <tr>\n",
       "      <th>3679</th>\n",
       "      <td>193565</td>\n",
       "      <td>Gintama: The Movie (2010)</td>\n",
       "      <td>Action|Animation|Comedy|Sci-Fi</td>\n",
       "      <td>184</td>\n",
       "      <td>anime</td>\n",
       "    </tr>\n",
       "    <tr>\n",
       "      <th>3680</th>\n",
       "      <td>193565</td>\n",
       "      <td>Gintama: The Movie (2010)</td>\n",
       "      <td>Action|Animation|Comedy|Sci-Fi</td>\n",
       "      <td>184</td>\n",
       "      <td>comedy</td>\n",
       "    </tr>\n",
       "    <tr>\n",
       "      <th>3681</th>\n",
       "      <td>193565</td>\n",
       "      <td>Gintama: The Movie (2010)</td>\n",
       "      <td>Action|Animation|Comedy|Sci-Fi</td>\n",
       "      <td>184</td>\n",
       "      <td>gintama</td>\n",
       "    </tr>\n",
       "    <tr>\n",
       "      <th>3682</th>\n",
       "      <td>193565</td>\n",
       "      <td>Gintama: The Movie (2010)</td>\n",
       "      <td>Action|Animation|Comedy|Sci-Fi</td>\n",
       "      <td>184</td>\n",
       "      <td>remaster</td>\n",
       "    </tr>\n",
       "  </tbody>\n",
       "</table>\n",
       "<p>3683 rows × 5 columns</p>\n",
       "</div>"
      ],
      "text/plain": [
       "      movieId                           title  \\\n",
       "0           1                Toy Story (1995)   \n",
       "1           1                Toy Story (1995)   \n",
       "2           1                Toy Story (1995)   \n",
       "3           2                  Jumanji (1995)   \n",
       "4           2                  Jumanji (1995)   \n",
       "...       ...                             ...   \n",
       "3678   187595  Solo: A Star Wars Story (2018)   \n",
       "3679   193565       Gintama: The Movie (2010)   \n",
       "3680   193565       Gintama: The Movie (2010)   \n",
       "3681   193565       Gintama: The Movie (2010)   \n",
       "3682   193565       Gintama: The Movie (2010)   \n",
       "\n",
       "                                           genres  userId               tag  \n",
       "0     Adventure|Animation|Children|Comedy|Fantasy     336             pixar  \n",
       "1     Adventure|Animation|Children|Comedy|Fantasy     474             pixar  \n",
       "2     Adventure|Animation|Children|Comedy|Fantasy     567               fun  \n",
       "3                      Adventure|Children|Fantasy      62           fantasy  \n",
       "4                      Adventure|Children|Fantasy      62  magic board game  \n",
       "...                                           ...     ...               ...  \n",
       "3678             Action|Adventure|Children|Sci-Fi      62         star wars  \n",
       "3679               Action|Animation|Comedy|Sci-Fi     184             anime  \n",
       "3680               Action|Animation|Comedy|Sci-Fi     184            comedy  \n",
       "3681               Action|Animation|Comedy|Sci-Fi     184           gintama  \n",
       "3682               Action|Animation|Comedy|Sci-Fi     184          remaster  \n",
       "\n",
       "[3683 rows x 5 columns]"
      ]
     },
     "execution_count": 14,
     "metadata": {},
     "output_type": "execute_result"
    }
   ],
   "source": [
    "# Merging the movies and tags dataset\n",
    "df_merge_tm=pd.merge(df_movies,df_tags,on='movieId')\n",
    "df_merge_tm=df_merge_tm.drop('timestamp',axis=1)\n",
    "df_merge_tm"
   ]
  },
  {
   "cell_type": "code",
   "execution_count": 15,
   "id": "70210cf9",
   "metadata": {},
   "outputs": [
    {
     "data": {
      "text/plain": [
       "movieId    0\n",
       "title      0\n",
       "genres     0\n",
       "userId     0\n",
       "tag        0\n",
       "dtype: int64"
      ]
     },
     "execution_count": 15,
     "metadata": {},
     "output_type": "execute_result"
    }
   ],
   "source": [
    "# To check for missing data values in tags and movies merged dataset\n",
    "df_merge_tm.isnull().sum()\n",
    "# As we can see there are no missing values "
   ]
  },
  {
   "cell_type": "code",
   "execution_count": 16,
   "id": "ca2187da",
   "metadata": {},
   "outputs": [
    {
     "name": "stdout",
     "output_type": "stream",
     "text": [
      "Shape of Ratings and movies merged dataset (100836, 5)\n",
      "Shape of Tags and movies merged dataset (3683, 5)\n"
     ]
    }
   ],
   "source": [
    "print(\"Shape of Ratings and movies merged dataset \"+str(df_merge_rm.shape))\n",
    "print(\"Shape of Tags and movies merged dataset \"+str(df_merge_tm.shape))"
   ]
  },
  {
   "cell_type": "code",
   "execution_count": 17,
   "id": "4c2c6009",
   "metadata": {},
   "outputs": [
    {
     "data": {
      "text/plain": [
       "title\n",
       "Gena the Crocodile (1969)                  5.0\n",
       "True Stories (1986)                        5.0\n",
       "Cosmic Scrat-tastrophe (2015)              5.0\n",
       "Love and Pigeons (1985)                    5.0\n",
       "Red Sorghum (Hong gao liang) (1987)        5.0\n",
       "                                          ... \n",
       "Don't Look Now (1973)                      0.5\n",
       "Journey 2: The Mysterious Island (2012)    0.5\n",
       "Joe Dirt 2: Beautiful Loser (2015)         0.5\n",
       "Jesus Christ Vampire Hunter (2001)         0.5\n",
       "Fullmetal Alchemist 2018 (2017)            0.5\n",
       "Name: rating, Length: 9719, dtype: float64"
      ]
     },
     "execution_count": 17,
     "metadata": {},
     "output_type": "execute_result"
    }
   ],
   "source": [
    "df_merge_rm.groupby('title')['rating'].mean().sort_values(ascending=False)"
   ]
  },
  {
   "cell_type": "code",
   "execution_count": 18,
   "id": "9235eef0",
   "metadata": {},
   "outputs": [
    {
     "data": {
      "text/plain": [
       "title\n",
       "Forrest Gump (1994)                          329\n",
       "Shawshank Redemption, The (1994)             317\n",
       "Pulp Fiction (1994)                          307\n",
       "Silence of the Lambs, The (1991)             279\n",
       "Matrix, The (1999)                           278\n",
       "                                            ... \n",
       "King Solomon's Mines (1950)                    1\n",
       "King Solomon's Mines (1937)                    1\n",
       "King Ralph (1991)                              1\n",
       "King Kong Lives (1986)                         1\n",
       "À nous la liberté (Freedom for Us) (1931)      1\n",
       "Name: rating, Length: 9719, dtype: int64"
      ]
     },
     "execution_count": 18,
     "metadata": {},
     "output_type": "execute_result"
    }
   ],
   "source": [
    "df_merge_rm.groupby('title')['rating'].count().sort_values(ascending=False)"
   ]
  },
  {
   "cell_type": "code",
   "execution_count": 19,
   "id": "fa0bf634",
   "metadata": {},
   "outputs": [
    {
     "data": {
      "text/html": [
       "<div>\n",
       "<style scoped>\n",
       "    .dataframe tbody tr th:only-of-type {\n",
       "        vertical-align: middle;\n",
       "    }\n",
       "\n",
       "    .dataframe tbody tr th {\n",
       "        vertical-align: top;\n",
       "    }\n",
       "\n",
       "    .dataframe thead th {\n",
       "        text-align: right;\n",
       "    }\n",
       "</style>\n",
       "<table border=\"1\" class=\"dataframe\">\n",
       "  <thead>\n",
       "    <tr style=\"text-align: right;\">\n",
       "      <th></th>\n",
       "      <th>rating</th>\n",
       "    </tr>\n",
       "    <tr>\n",
       "      <th>title</th>\n",
       "      <th></th>\n",
       "    </tr>\n",
       "  </thead>\n",
       "  <tbody>\n",
       "    <tr>\n",
       "      <th>Gena the Crocodile (1969)</th>\n",
       "      <td>5.0</td>\n",
       "    </tr>\n",
       "    <tr>\n",
       "      <th>True Stories (1986)</th>\n",
       "      <td>5.0</td>\n",
       "    </tr>\n",
       "    <tr>\n",
       "      <th>Cosmic Scrat-tastrophe (2015)</th>\n",
       "      <td>5.0</td>\n",
       "    </tr>\n",
       "    <tr>\n",
       "      <th>Love and Pigeons (1985)</th>\n",
       "      <td>5.0</td>\n",
       "    </tr>\n",
       "    <tr>\n",
       "      <th>Red Sorghum (Hong gao liang) (1987)</th>\n",
       "      <td>5.0</td>\n",
       "    </tr>\n",
       "    <tr>\n",
       "      <th>...</th>\n",
       "      <td>...</td>\n",
       "    </tr>\n",
       "    <tr>\n",
       "      <th>Don't Look Now (1973)</th>\n",
       "      <td>0.5</td>\n",
       "    </tr>\n",
       "    <tr>\n",
       "      <th>Journey 2: The Mysterious Island (2012)</th>\n",
       "      <td>0.5</td>\n",
       "    </tr>\n",
       "    <tr>\n",
       "      <th>Joe Dirt 2: Beautiful Loser (2015)</th>\n",
       "      <td>0.5</td>\n",
       "    </tr>\n",
       "    <tr>\n",
       "      <th>Jesus Christ Vampire Hunter (2001)</th>\n",
       "      <td>0.5</td>\n",
       "    </tr>\n",
       "    <tr>\n",
       "      <th>Fullmetal Alchemist 2018 (2017)</th>\n",
       "      <td>0.5</td>\n",
       "    </tr>\n",
       "  </tbody>\n",
       "</table>\n",
       "<p>9719 rows × 1 columns</p>\n",
       "</div>"
      ],
      "text/plain": [
       "                                         rating\n",
       "title                                          \n",
       "Gena the Crocodile (1969)                   5.0\n",
       "True Stories (1986)                         5.0\n",
       "Cosmic Scrat-tastrophe (2015)               5.0\n",
       "Love and Pigeons (1985)                     5.0\n",
       "Red Sorghum (Hong gao liang) (1987)         5.0\n",
       "...                                         ...\n",
       "Don't Look Now (1973)                       0.5\n",
       "Journey 2: The Mysterious Island (2012)     0.5\n",
       "Joe Dirt 2: Beautiful Loser (2015)          0.5\n",
       "Jesus Christ Vampire Hunter (2001)          0.5\n",
       "Fullmetal Alchemist 2018 (2017)             0.5\n",
       "\n",
       "[9719 rows x 1 columns]"
      ]
     },
     "execution_count": 19,
     "metadata": {},
     "output_type": "execute_result"
    }
   ],
   "source": [
    "ratings = pd.DataFrame(df_merge_rm.groupby('title')['rating'].mean().sort_values(ascending=False))\n",
    "ratings"
   ]
  },
  {
   "cell_type": "code",
   "execution_count": 20,
   "id": "9c9ce4dd",
   "metadata": {},
   "outputs": [
    {
     "data": {
      "text/html": [
       "<div>\n",
       "<style scoped>\n",
       "    .dataframe tbody tr th:only-of-type {\n",
       "        vertical-align: middle;\n",
       "    }\n",
       "\n",
       "    .dataframe tbody tr th {\n",
       "        vertical-align: top;\n",
       "    }\n",
       "\n",
       "    .dataframe thead th {\n",
       "        text-align: right;\n",
       "    }\n",
       "</style>\n",
       "<table border=\"1\" class=\"dataframe\">\n",
       "  <thead>\n",
       "    <tr style=\"text-align: right;\">\n",
       "      <th></th>\n",
       "      <th>rating</th>\n",
       "      <th>num of ratings</th>\n",
       "    </tr>\n",
       "    <tr>\n",
       "      <th>title</th>\n",
       "      <th></th>\n",
       "      <th></th>\n",
       "    </tr>\n",
       "  </thead>\n",
       "  <tbody>\n",
       "    <tr>\n",
       "      <th>Gena the Crocodile (1969)</th>\n",
       "      <td>5.0</td>\n",
       "      <td>1</td>\n",
       "    </tr>\n",
       "    <tr>\n",
       "      <th>True Stories (1986)</th>\n",
       "      <td>5.0</td>\n",
       "      <td>1</td>\n",
       "    </tr>\n",
       "    <tr>\n",
       "      <th>Cosmic Scrat-tastrophe (2015)</th>\n",
       "      <td>5.0</td>\n",
       "      <td>1</td>\n",
       "    </tr>\n",
       "    <tr>\n",
       "      <th>Love and Pigeons (1985)</th>\n",
       "      <td>5.0</td>\n",
       "      <td>1</td>\n",
       "    </tr>\n",
       "    <tr>\n",
       "      <th>Red Sorghum (Hong gao liang) (1987)</th>\n",
       "      <td>5.0</td>\n",
       "      <td>1</td>\n",
       "    </tr>\n",
       "  </tbody>\n",
       "</table>\n",
       "</div>"
      ],
      "text/plain": [
       "                                     rating  num of ratings\n",
       "title                                                      \n",
       "Gena the Crocodile (1969)               5.0               1\n",
       "True Stories (1986)                     5.0               1\n",
       "Cosmic Scrat-tastrophe (2015)           5.0               1\n",
       "Love and Pigeons (1985)                 5.0               1\n",
       "Red Sorghum (Hong gao liang) (1987)     5.0               1"
      ]
     },
     "execution_count": 20,
     "metadata": {},
     "output_type": "execute_result"
    }
   ],
   "source": [
    "ratings['num of ratings'] = pd.DataFrame(df_merge_rm.groupby('title')['rating'].count())\n",
    "ratings.head()"
   ]
  },
  {
   "cell_type": "code",
   "execution_count": 21,
   "id": "20d66b65",
   "metadata": {},
   "outputs": [
    {
     "data": {
      "text/plain": [
       "<AxesSubplot:>"
      ]
     },
     "execution_count": 21,
     "metadata": {},
     "output_type": "execute_result"
    },
    {
     "data": {
      "image/png": "[encoded data removed]",
      "text/plain": [
       "<Figure size 1080x576 with 1 Axes>"
      ]
     },
     "metadata": {
      "needs_background": "light"
     },
     "output_type": "display_data"
    }
   ],
   "source": [
    "plt.figure(figsize=(15,8))\n",
    "ratings['num of ratings'].hist(edgecolor='red',bins=70)"
   ]
  },
  {
   "cell_type": "code",
   "execution_count": 22,
   "id": "ce268810",
   "metadata": {},
   "outputs": [
    {
     "data": {
      "text/plain": [
       "<seaborn.axisgrid.JointGrid at 0x16e1de669d0>"
      ]
     },
     "execution_count": 22,
     "metadata": {},
     "output_type": "execute_result"
    },
    {
     "data": {
      "image/png": "[encoded data removed]",
      "text/plain": [
       "<Figure size 432x432 with 3 Axes>"
      ]
     },
     "metadata": {
      "needs_background": "light"
     },
     "output_type": "display_data"
    }
   ],
   "source": [
    "sns.jointplot(x='rating',y='num of ratings',data=ratings,alpha=0.5)"
   ]
  },
  {
   "cell_type": "markdown",
   "id": "8f6fa3a1",
   "metadata": {},
   "source": [
    "### Distribution of User Rating"
   ]
  },
  {
   "cell_type": "code",
   "execution_count": 23,
   "id": "5b654b7e",
   "metadata": {},
   "outputs": [
    {
     "data": {
      "image/png": "[encoded data removed]",
      "text/plain": [
       "<Figure size 432x288 with 1 Axes>"
      ]
     },
     "metadata": {
      "needs_background": "light"
     },
     "output_type": "display_data"
    }
   ],
   "source": [
    "sns.distplot(df_merge_rm[\"rating\"]);"
   ]
  },
  {
   "cell_type": "markdown",
   "id": "754672b6",
   "metadata": {},
   "source": [
    "## Movie Count in every Genres"
   ]
  },
  {
   "cell_type": "code",
   "execution_count": 24,
   "id": "a03afd6e",
   "metadata": {
    "scrolled": false
   },
   "outputs": [
    {
     "data": {
      "text/plain": [
       "<AxesSubplot:>"
      ]
     },
     "execution_count": 24,
     "metadata": {},
     "output_type": "execute_result"
    },
    {
     "data": {
      "image/png": "[encoded data removed]",
      "text/plain": [
       "<Figure size 1440x504 with 1 Axes>"
      ]
     },
     "metadata": {
      "needs_background": "light"
     },
     "output_type": "display_data"
    }
   ],
   "source": [
    "plt.figure(figsize=(20,7))\n",
    "generlist = df_merge_rm['genres'].apply(lambda generlist_movie : str(generlist_movie).split(\"|\"))\n",
    "geners_count = {}\n",
    "\n",
    "for generlist_movie in generlist:\n",
    "    \n",
    "    for i in generlist_movie:\n",
    "        if(geners_count.get(i, False)):\n",
    "            geners_count[i]=geners_count[i]+1\n",
    "        else:\n",
    "            geners_count[i] = 1       \n",
    "geners_count.pop(\"(no genres listed)\")\n",
    "keys=list(geners_count.keys())\n",
    "keys\n",
    "values=list(geners_count.values())\n",
    "sns.barplot(x=keys,y=values)"
   ]
  },
  {
   "cell_type": "markdown",
   "id": "31ad66b6",
   "metadata": {},
   "source": [
    "### Top 10 user who have rated most of the movies"
   ]
  },
  {
   "cell_type": "code",
   "execution_count": 25,
   "id": "6d28436e",
   "metadata": {},
   "outputs": [
    {
     "data": {
      "text/plain": [
       "<AxesSubplot:xlabel='userId'>"
      ]
     },
     "execution_count": 25,
     "metadata": {},
     "output_type": "execute_result"
    },
    {
     "data": {
      "image/png": "[encoded data removed]",
      "text/plain": [
       "<Figure size 720x504 with 1 Axes>"
      ]
     },
     "metadata": {
      "needs_background": "light"
     },
     "output_type": "display_data"
    }
   ],
   "source": [
    "ratings_grouped_by_users = df_merge_rm.groupby('userId').agg([np.mean, np.size])\n",
    "ratings_grouped_by_users = ratings_grouped_by_users.drop('movieId', axis = 1)\n",
    "ru=ratings_grouped_by_users['rating']['size'].sort_values(ascending=False).head(10)\n",
    "ru.plot.bar(figsize=(10,7),color='y')"
   ]
  },
  {
   "cell_type": "markdown",
   "id": "8913eaa9",
   "metadata": {},
   "source": [
    "### Top 10 Watched Movies"
   ]
  },
  {
   "cell_type": "code",
   "execution_count": 26,
   "id": "2828f13b",
   "metadata": {},
   "outputs": [
    {
     "data": {
      "image/png": "[encoded data removed]",
      "text/plain": [
       "<Figure size 864x504 with 1 Axes>"
      ]
     },
     "metadata": {
      "needs_background": "light"
     },
     "output_type": "display_data"
    }
   ],
   "source": [
    "ratings_grouped_by_movies = df_merge_rm.groupby('movieId').size().sort_values(ascending=False)[:10]\n",
    "top_ten_movie_titles=df_merge_rm.loc[ratings_grouped_by_movies.index].title\n",
    "plt.figure(figsize=(12, 7))\n",
    "sns.barplot(y=top_ten_movie_titles.values, x=ratings_grouped_by_movies, orient='h')\n",
    "plt.title('Top 10 movies')\n",
    "plt.ylabel('Movies')\n",
    "plt.xlabel('Count')\n",
    "plt.show()"
   ]
  },
  {
   "cell_type": "code",
   "execution_count": 27,
   "id": "de97b883",
   "metadata": {},
   "outputs": [
    {
     "data": {
      "image/png": "[encoded data removed]",
      "text/plain": [
       "<Figure size 504x432 with 1 Axes>"
      ]
     },
     "metadata": {
      "needs_background": "light"
     },
     "output_type": "display_data"
    }
   ],
   "source": [
    "rating_grouped_by_movies = df_merge_rm.groupby('movieId').agg([np.mean], np.size)\n",
    "rating_grouped_by_movies = rating_grouped_by_movies.drop('userId', axis=1)\n",
    "rating_grouped_by_movies['rating']['mean'].sort_values(ascending=False).head(10).plot(kind='barh', figsize=(7,6));"
   ]
  },
  {
   "cell_type": "markdown",
   "id": "f29d4a7b",
   "metadata": {},
   "source": [
    "### MoviesId with low average rating"
   ]
  },
  {
   "cell_type": "code",
   "execution_count": 28,
   "id": "99350e7c",
   "metadata": {},
   "outputs": [
    {
     "data": {
      "image/png": "[encoded data removed]",
      "text/plain": [
       "<Figure size 504x360 with 1 Axes>"
      ]
     },
     "metadata": {
      "needs_background": "light"
     },
     "output_type": "display_data"
    }
   ],
   "source": [
    "low_rated_movies_filter = rating_grouped_by_movies['rating']['mean']< 1.5\n",
    "low_rated_movies = rating_grouped_by_movies[low_rated_movies_filter]\n",
    "low_rated_movies.head(20).plot(kind='barh', figsize=(7,5));"
   ]
  },
  {
   "cell_type": "code",
   "execution_count": 29,
   "id": "5db948c4",
   "metadata": {},
   "outputs": [
    {
     "data": {
      "text/html": [
       "<div>\n",
       "<style scoped>\n",
       "    .dataframe tbody tr th:only-of-type {\n",
       "        vertical-align: middle;\n",
       "    }\n",
       "\n",
       "    .dataframe tbody tr th {\n",
       "        vertical-align: top;\n",
       "    }\n",
       "\n",
       "    .dataframe thead tr th {\n",
       "        text-align: left;\n",
       "    }\n",
       "\n",
       "    .dataframe thead tr:last-of-type th {\n",
       "        text-align: right;\n",
       "    }\n",
       "</style>\n",
       "<table border=\"1\" class=\"dataframe\">\n",
       "  <thead>\n",
       "    <tr>\n",
       "      <th></th>\n",
       "      <th>rating</th>\n",
       "    </tr>\n",
       "    <tr>\n",
       "      <th></th>\n",
       "      <th>mean</th>\n",
       "    </tr>\n",
       "    <tr>\n",
       "      <th>movieId</th>\n",
       "      <th></th>\n",
       "    </tr>\n",
       "  </thead>\n",
       "  <tbody>\n",
       "    <tr>\n",
       "      <th>178</th>\n",
       "      <td>1.000000</td>\n",
       "    </tr>\n",
       "    <tr>\n",
       "      <th>312</th>\n",
       "      <td>1.444444</td>\n",
       "    </tr>\n",
       "    <tr>\n",
       "      <th>449</th>\n",
       "      <td>1.000000</td>\n",
       "    </tr>\n",
       "    <tr>\n",
       "      <th>470</th>\n",
       "      <td>1.000000</td>\n",
       "    </tr>\n",
       "    <tr>\n",
       "      <th>476</th>\n",
       "      <td>1.000000</td>\n",
       "    </tr>\n",
       "    <tr>\n",
       "      <th>698</th>\n",
       "      <td>1.000000</td>\n",
       "    </tr>\n",
       "    <tr>\n",
       "      <th>870</th>\n",
       "      <td>1.000000</td>\n",
       "    </tr>\n",
       "    <tr>\n",
       "      <th>1163</th>\n",
       "      <td>1.000000</td>\n",
       "    </tr>\n",
       "    <tr>\n",
       "      <th>1324</th>\n",
       "      <td>1.166667</td>\n",
       "    </tr>\n",
       "    <tr>\n",
       "      <th>1325</th>\n",
       "      <td>1.250000</td>\n",
       "    </tr>\n",
       "  </tbody>\n",
       "</table>\n",
       "</div>"
      ],
      "text/plain": [
       "           rating\n",
       "             mean\n",
       "movieId          \n",
       "178      1.000000\n",
       "312      1.444444\n",
       "449      1.000000\n",
       "470      1.000000\n",
       "476      1.000000\n",
       "698      1.000000\n",
       "870      1.000000\n",
       "1163     1.000000\n",
       "1324     1.166667\n",
       "1325     1.250000"
      ]
     },
     "execution_count": 29,
     "metadata": {},
     "output_type": "execute_result"
    }
   ],
   "source": [
    "low_rated_movies.head(10)"
   ]
  },
  {
   "cell_type": "markdown",
   "id": "a57e77aa",
   "metadata": {},
   "source": [
    "### Top 10 tags count"
   ]
  },
  {
   "cell_type": "code",
   "execution_count": 30,
   "id": "d034d87d",
   "metadata": {},
   "outputs": [],
   "source": [
    "tm_value = (df_merge_tm['tag'].value_counts().head(10))\n",
    "df = pd.DataFrame(tm_value)\n",
    "y=df.values.reshape(-1)"
   ]
  },
  {
   "cell_type": "code",
   "execution_count": 31,
   "id": "7d82117c",
   "metadata": {},
   "outputs": [
    {
     "data": {
      "text/plain": [
       "<AxesSubplot:>"
      ]
     },
     "execution_count": 31,
     "metadata": {},
     "output_type": "execute_result"
    },
    {
     "data": {
      "image/png": "[encoded data removed]",
      "text/plain": [
       "<Figure size 1080x576 with 1 Axes>"
      ]
     },
     "metadata": {
      "needs_background": "light"
     },
     "output_type": "display_data"
    }
   ],
   "source": [
    "plt.figure(figsize=(15,8))\n",
    "sns.barplot(x=df.index, y=y)"
   ]
  },
  {
   "cell_type": "markdown",
   "id": "936b8101",
   "metadata": {},
   "source": [
    "## Model Building"
   ]
  },
  {
   "cell_type": "markdown",
   "id": "abcc5455",
   "metadata": {},
   "source": [
    "## Content based fitering based on Genres"
   ]
  },
  {
   "cell_type": "markdown",
   "id": "deeab877",
   "metadata": {},
   "source": [
    "Using the content based filtering on genres\n",
    "- First using the Tf-Idf Vectorizer which will help capture the important genres of each movie by giving a higher weight to the less frequent genres\n",
    "- Then finding similar tf-idf vector based (movies) using cosine-similarity "
   ]
  },
  {
   "cell_type": "code",
   "execution_count": 32,
   "id": "78029a0d",
   "metadata": {},
   "outputs": [],
   "source": [
    "from sklearn.feature_extraction.text import TfidfVectorizer\n",
    "from sklearn.metrics.pairwise import cosine_similarity"
   ]
  },
  {
   "cell_type": "code",
   "execution_count": 33,
   "id": "7eb5ee35",
   "metadata": {},
   "outputs": [
    {
     "name": "stdout",
     "output_type": "stream",
     "text": [
      "['action', 'adventure', 'animation', 'children', 'comedy', 'crime', 'documentary', 'drama', 'fantasy', 'film-noir', 'horror', 'imax', 'musical', 'mystery', 'romance', 'sci-fi', 'thriller', 'war', 'western']\n",
      "(9742, 19)\n"
     ]
    }
   ],
   "source": [
    "tfidf_movies_genres = TfidfVectorizer(token_pattern = '[a-zA-Z0-9\\-]+')\n",
    "#Replace NaN with an empty string\n",
    "df_movies['genres'] = df_movies['genres'].replace(to_replace=\"(no genres listed)\", value=\"\")\n",
    "#Constructing the required TF-IDF matrix by fitting and transforming the data\n",
    "tfidf_movies_genres_matrix = tfidf_movies_genres.fit_transform(df_movies['genres'])\n",
    "\n",
    "print(tfidf_movies_genres.get_feature_names())\n",
    "print(tfidf_movies_genres_matrix.shape)"
   ]
  },
  {
   "cell_type": "code",
   "execution_count": 34,
   "id": "1e7bee88",
   "metadata": {},
   "outputs": [
    {
     "name": "stdout",
     "output_type": "stream",
     "text": [
      "[[1.         0.81357774 0.15276924 ... 0.         0.4210373  0.26758648]\n",
      " [0.81357774 1.         0.         ... 0.         0.         0.        ]\n",
      " [0.15276924 0.         1.         ... 0.         0.         0.57091541]\n",
      " ...\n",
      " [0.         0.         0.         ... 1.         0.         0.        ]\n",
      " [0.4210373  0.         0.         ... 0.         1.         0.        ]\n",
      " [0.26758648 0.         0.57091541 ... 0.         0.         1.        ]]\n",
      "(9742, 9742)\n"
     ]
    }
   ],
   "source": [
    "# Computing the cosine similarity matrix\n",
    "cosine_sim_movies = cosine_similarity(tfidf_movies_genres_matrix)\n",
    "print(cosine_sim_movies)\n",
    "print(cosine_sim_movies.shape)"
   ]
  },
  {
   "cell_type": "code",
   "execution_count": 35,
   "id": "73f404d0",
   "metadata": {},
   "outputs": [],
   "source": [
    "def get_recommendations_based_on_genres(movie_title, cosine_sim_movies=cosine_sim_movies):\n",
    "    \"\"\"\n",
    "    Calculates top 15 movies to recommend based on given movie titles genres. \n",
    "    :param movie_title: title of movie to be taken for base of recommendation\n",
    "    :param cosine_sim_movies: cosine similarity between movies \n",
    "    :return: Titles of movies recommended to user\n",
    "    \"\"\"\n",
    "    # Get the index of the movie that matches the title\n",
    "    idx_movie = df_movies.loc[df_movies['title'].isin([movie_title])]\n",
    "    idx_movie = idx_movie.index\n",
    "    \n",
    "    # Get the pairwsie similarity scores of all movies with that movie\n",
    "    sim_scores_movies = list(enumerate(cosine_sim_movies[idx_movie][0]))\n",
    "    \n",
    "    # Sort the movies based on the similarity scores\n",
    "    sim_scores_movies = sorted(sim_scores_movies, key=lambda x: x[1], reverse=True)\n",
    "\n",
    "    # Get the scores of the 15 most similar movies\n",
    "    sim_scores_movies = sim_scores_movies[1:16]\n",
    "    \n",
    "    # Get the movie indices\n",
    "    movie_indices = [i[0] for i in sim_scores_movies]\n",
    "    \n",
    "    # Return the top 15 most similar movies\n",
    "    return df_movies['title'].iloc[movie_indices]"
   ]
  },
  {
   "cell_type": "code",
   "execution_count": 36,
   "id": "baf58840",
   "metadata": {},
   "outputs": [
    {
     "data": {
      "text/plain": [
       "1859                           Crocodile Dundee II (1988)\n",
       "2014         Austin Powers: The Spy Who Shagged Me (1999)\n",
       "2069    Allan Quatermain and the Lost City of Gold (1987)\n",
       "2163    Armour of God II: Operation Condor (Operation ...\n",
       "2164              Armour of God (Long xiong hu di) (1987)\n",
       "3909                                 In Like Flint (1967)\n",
       "4036    Friend Is a Treasure, A (Chi Trova Un Amico, T...\n",
       "4066                                 Casino Royale (1967)\n",
       "4228                              Shanghai Knights (2003)\n",
       "4552                                  Rundown, The (2003)\n",
       "4689                                   Hudson Hawk (1991)\n",
       "4929    Those Magnificent Men in Their Flying Machines...\n",
       "5463                                        Batman (1966)\n",
       "5809                         Three Musketeers, The (1973)\n",
       "5852                                        Sahara (2005)\n",
       "Name: title, dtype: object"
      ]
     },
     "execution_count": 36,
     "metadata": {},
     "output_type": "execute_result"
    }
   ],
   "source": [
    "get_recommendations_based_on_genres('Batman (1966)')"
   ]
  },
  {
   "cell_type": "markdown",
   "id": "dbdc2d0c",
   "metadata": {},
   "source": [
    "Here we see that the recommedation based on genres provides fairly good results. We get recommendation who have the same genres as the movie name given as input using the cosinie simialrity matrix "
   ]
  },
  {
   "cell_type": "code",
   "execution_count": 37,
   "id": "428184f5",
   "metadata": {
    "scrolled": false
   },
   "outputs": [
    {
     "data": {
      "text/plain": [
       "{'13th Warrior, The (1999)',\n",
       " '5,000 Fingers of Dr. T, The (1953)',\n",
       " '52 Pick-Up (1986)',\n",
       " '7th Voyage of Sinbad, The (1958)',\n",
       " 'Above the Rim (1994)',\n",
       " 'Abyss, The (1989)',\n",
       " 'Ace Ventura: When Nature Calls (1995)',\n",
       " 'After Hours (1985)',\n",
       " 'Air Force One (1997)',\n",
       " 'Airport 1975 (1974)',\n",
       " 'American Buffalo (1996)',\n",
       " 'American Friend, The (Amerikanische Freund, Der) (1977)',\n",
       " 'American President, The (1995)',\n",
       " 'Anaconda (1997)',\n",
       " 'Angels and Insects (1995)',\n",
       " 'Assassination (1987)',\n",
       " 'Assassins (1995)',\n",
       " 'Assignment, The (1997)',\n",
       " 'Awfully Big Adventure, An (1995)',\n",
       " 'Babes in Toyland (1934)',\n",
       " 'Babes in Toyland (1961)',\n",
       " 'Babysitter, The (1995)',\n",
       " 'Basketball Diaries, The (1995)',\n",
       " 'Batman (1989)',\n",
       " 'Beastmaster, The (1982)',\n",
       " 'Beautiful Creatures (2000)',\n",
       " 'Beautiful Girls (1996)',\n",
       " 'Beauty of the Day (Belle de jour) (1967)',\n",
       " 'Bed of Roses (1996)',\n",
       " 'Before Sunrise (1995)',\n",
       " 'Bio-Dome (1996)',\n",
       " 'Black Sea (2015)',\n",
       " 'Black Sheep (1996)',\n",
       " 'Blood Work (2002)',\n",
       " 'Blown Away (1994)',\n",
       " 'Bonnie and Clyde (1967)',\n",
       " 'Boomerang (1992)',\n",
       " 'Bourne Identity, The (1988)',\n",
       " 'Bourne Identity, The (2002)',\n",
       " 'Boys from Brazil, The (1978)',\n",
       " 'Boys of St. Vincent, The (1992)',\n",
       " 'Breakdown (1997)',\n",
       " 'Bridges of Madison County, The (1995)',\n",
       " 'Brotherhood of the Wolf (Pacte des loups, Le) (2001)',\n",
       " 'Brothers McMullen, The (1995)',\n",
       " 'Burke and Hare (2010)',\n",
       " 'Business of Strangers, The (2001)',\n",
       " \"Carlito's Way (1993)\",\n",
       " 'Chain Reaction (1996)',\n",
       " 'Chitty Chitty Bang Bang (1968)',\n",
       " 'Cinderella (1997)',\n",
       " 'Circle of Friends (1995)',\n",
       " 'City Hall (1996)',\n",
       " 'Cliffhanger (1993)',\n",
       " 'Clockstoppers (2002)',\n",
       " 'Cloverfield (2008)',\n",
       " 'Clueless (1995)',\n",
       " 'Coherence (2013)',\n",
       " 'Color of Night (1994)',\n",
       " 'Con Air (1997)',\n",
       " 'Conan the Barbarian (1982)',\n",
       " 'Confessions of a Dangerous Mind (2002)',\n",
       " 'Corrina, Corrina (1994)',\n",
       " 'Crimson Rivers, The (Rivières pourpres, Les) (2000)',\n",
       " 'Crow: City of Angels, The (1996)',\n",
       " 'Cry, the Beloved Country (1995)',\n",
       " 'Dangerous Minds (1995)',\n",
       " \"Dante's Peak (1997)\",\n",
       " \"Dead Men Don't Wear Plaid (1982)\",\n",
       " 'Death and the Maiden (1994)',\n",
       " \"Devil's Own, The (1997)\",\n",
       " 'Diabolique (1996)',\n",
       " 'Die Hard (1988)',\n",
       " 'Die Hard 2 (1990)',\n",
       " 'Die Hard: With a Vengeance (1995)',\n",
       " 'Disclosure (1994)',\n",
       " 'District 9 (2009)',\n",
       " 'Dolores Claiborne (1995)',\n",
       " 'Don Juan DeMarco (1995)',\n",
       " 'Donnie Darko (2001)',\n",
       " 'Down Periscope (1996)',\n",
       " 'Drop Zone (1994)',\n",
       " 'Duel (1971)',\n",
       " 'Earthquake (1974)',\n",
       " 'Eat Drink Man Woman (Yin shi nan nu) (1994)',\n",
       " 'Echelon Conspiracy (2009)',\n",
       " 'Enemy of the State (1998)',\n",
       " 'Escape Plan (2013)',\n",
       " 'Escape from L.A. (1996)',\n",
       " 'Escape from New York (1981)',\n",
       " 'Family Plot (1976)',\n",
       " 'Fan, The (1996)',\n",
       " 'Fire Down Below (1997)',\n",
       " 'Firm, The (1993)',\n",
       " 'Flirting With Disaster (1996)',\n",
       " 'Forget Paris (1995)',\n",
       " 'Forgotten, The (2004)',\n",
       " 'Foul Play (1978)',\n",
       " 'Four Rooms (1995)',\n",
       " 'Freeway (1996)',\n",
       " 'French Connection, The (1971)',\n",
       " 'French Twist (Gazon maudit) (1995)',\n",
       " 'Friday (1995)',\n",
       " 'Frosty the Snowman (1969)',\n",
       " 'Funeral, The (1996)',\n",
       " \"General's Daughter, The (1999)\",\n",
       " 'Georgia (1995)',\n",
       " 'Get Carter (2000)',\n",
       " 'Get Shorty (1995)',\n",
       " 'Glimmer Man, The (1996)',\n",
       " 'Godfather, The (1972)',\n",
       " 'Godfather: Part III, The (1990)',\n",
       " 'Goldfinger (1964)',\n",
       " 'Goodbye Lover (1999)',\n",
       " 'Hanna (2011)',\n",
       " 'Happy Gilmore (1996)',\n",
       " 'Hard Rain (1998)',\n",
       " 'Hate (Haine, La) (1995)',\n",
       " 'Head Above Water (1996)',\n",
       " 'Heavenly Creatures (1994)',\n",
       " 'High Anxiety (1977)',\n",
       " 'Highlander (1986)',\n",
       " 'Highlander: Endgame (Highlander IV) (2000)',\n",
       " 'Home for the Holidays (1995)',\n",
       " 'Homegrown (1998)',\n",
       " 'How to Make an American Quilt (1995)',\n",
       " 'Hunt for Red October, The (1990)',\n",
       " 'Hunted, The (2003)',\n",
       " 'I Like It Like That (1994)',\n",
       " 'I.Q. (1994)',\n",
       " 'If Lucy Fell (1996)',\n",
       " 'In Bruges (2008)',\n",
       " 'In the Line of Fire (1993)',\n",
       " 'Indiana Jones and the Temple of Doom (1984)',\n",
       " 'Informant!, The (2009)',\n",
       " 'Into the Woods (2014)',\n",
       " 'Irreversible (Irréversible) (2002)',\n",
       " 'It Could Happen to You (1994)',\n",
       " 'Jackal, The (1997)',\n",
       " 'Jacket, The (2005)',\n",
       " \"Jason's Lyric (1994)\",\n",
       " 'Judgment Night (1993)',\n",
       " 'Jurassic Park III (2001)',\n",
       " 'Jury Duty (1995)',\n",
       " 'Kalifornia (1993)',\n",
       " 'Kids (1995)',\n",
       " 'Kiss the Girls (1997)',\n",
       " 'La Cérémonie (1995)',\n",
       " 'Last Supper, The (1995)',\n",
       " 'Leaves of Grass (2009)',\n",
       " 'Living in Oblivion (1995)',\n",
       " 'Lock, Stock & Two Smoking Barrels (1998)',\n",
       " 'Long Kiss Goodnight, The (1996)',\n",
       " 'Losers, The (2010)',\n",
       " 'Lost World: Jurassic Park, The (1997)',\n",
       " 'Mad Love (1995)',\n",
       " 'Mallrats (1995)',\n",
       " \"Man Bites Dog (C'est arrivé près de chez vous) (1992)\",\n",
       " 'Man Who Knew Too Little, The (1997)',\n",
       " 'Man of the Year (2006)',\n",
       " 'Maximum Risk (1996)',\n",
       " 'Mercury Rising (1998)',\n",
       " 'Milk Money (1994)',\n",
       " 'Mona Lisa (1986)',\n",
       " 'Moon (2009)',\n",
       " 'Moonraker (1979)',\n",
       " 'Mortal Kombat: Annihilation (1997)',\n",
       " 'Mr. Wrong (1996)',\n",
       " 'Muppet Christmas Carol, The (1992)',\n",
       " 'Muppets Take Manhattan, The (1984)',\n",
       " 'Murder at 1600 (1997)',\n",
       " 'Murder in the First (1995)',\n",
       " 'Nadja (1994)',\n",
       " 'Name of the Rose, The (Name der Rose, Der) (1986)',\n",
       " 'Narcopolis (2014)',\n",
       " 'National Treasure (2004)',\n",
       " 'Natural Born Killers (1994)',\n",
       " 'Net, The (1995)',\n",
       " 'New Adventures of Pippi Longstocking, The (1988)',\n",
       " 'New Jersey Drive (1995)',\n",
       " 'Nina Takes a Lover (1994)',\n",
       " 'Nine Months (1995)',\n",
       " 'No Mercy (1986)',\n",
       " \"Nobody's Fool (1994)\",\n",
       " 'Non-Stop (2014)',\n",
       " 'North by Northwest (1959)',\n",
       " 'Once Upon a Time... When We Were Colored (1995)',\n",
       " 'Once Were Warriors (1994)',\n",
       " 'Only You (1994)',\n",
       " 'Othello (1995)',\n",
       " 'Out Cold (1989)',\n",
       " 'Party Girl (1995)',\n",
       " 'Party Monster (2003)',\n",
       " 'Payback (1999)',\n",
       " 'Perez Family, The (1995)',\n",
       " 'Persuasion (1995)',\n",
       " 'Peter Pan (1960)',\n",
       " 'Pie in the Sky (1996)',\n",
       " \"Please Don't Eat the Daisies (1960)\",\n",
       " 'Pledge, The (2001)',\n",
       " 'Poison Ivy II (1996)',\n",
       " 'Postman, The (Postino, Il) (1994)',\n",
       " 'Predestination (2014)',\n",
       " 'Prestige, The (2006)',\n",
       " 'Professional, The (Le professionnel) (1981)',\n",
       " 'Rambo: First Blood Part II (1985)',\n",
       " 'Reality Bites (1994)',\n",
       " 'Red Sonja (1985)',\n",
       " 'Replacement Killers, The (1998)',\n",
       " 'Restoration (1995)',\n",
       " 'Road Warrior, The (Mad Max 2) (1981)',\n",
       " 'Ronin (1998)',\n",
       " 'Salvation Boulevard (2011)',\n",
       " 'Scarlet Letter, The (1995)',\n",
       " 'Seconds (1966)',\n",
       " 'Shaft (2000)',\n",
       " 'Shanghai Triad (Yao a yao yao dao waipo qiao) (1995)',\n",
       " 'Shawshank Redemption, The (1994)',\n",
       " 'Sheena (1984)',\n",
       " 'Showgirls (1995)',\n",
       " 'Siege, The (1998)',\n",
       " 'Sleepless in Seattle (1993)',\n",
       " 'Snatch (2000)',\n",
       " 'Some Folks Call It a Sling Blade (1993)',\n",
       " 'Some Guy Who Kills People (2011)',\n",
       " 'Someone to Watch Over Me (1987)',\n",
       " 'Something to Talk About (1995)',\n",
       " 'Son in Law (1993)',\n",
       " 'Soylent Green (1973)',\n",
       " 'Spanish Prisoner, The (1997)',\n",
       " 'Spawn (1997)',\n",
       " 'Spider-Man (2002)',\n",
       " 'Star Trek II: The Wrath of Khan (1982)',\n",
       " 'Steal Big, Steal Little (1995)',\n",
       " 'Stepford Wives, The (1975)',\n",
       " 'Street Fighter (1994)',\n",
       " 'Supergirl (1984)',\n",
       " 'Surviving the Game (1994)',\n",
       " 'Teaching Mrs. Tingle (1999)',\n",
       " 'Tears of the Sun (2003)',\n",
       " 'Terminal Velocity (1994)',\n",
       " 'The Golden Voyage of Sinbad (1973)',\n",
       " 'Tomorrow Never Dies (1997)',\n",
       " 'Total Eclipse (1995)',\n",
       " 'Total Recall (1990)',\n",
       " 'Turbulence (1997)',\n",
       " 'Twin Peaks: Fire Walk with Me (1992)',\n",
       " 'Two if by Sea (1996)',\n",
       " 'U.S. Marshals (1998)',\n",
       " 'Under Siege (1992)',\n",
       " 'Underworld (1996)',\n",
       " 'Unforgettable (1996)',\n",
       " 'Up Close and Personal (1996)',\n",
       " 'View to a Kill, A (1985)',\n",
       " 'Volcano (1997)',\n",
       " 'Walk in the Clouds, A (1995)',\n",
       " 'Walking and Talking (1996)',\n",
       " 'When Night Is Falling (1995)',\n",
       " \"White Man's Burden (1995)\",\n",
       " 'Wild Things (1998)',\n",
       " 'Willow (1988)',\n",
       " 'Wiz, The (1978)',\n",
       " 'Wizard of Oz, The (1939)',\n",
       " 'Wonderland (2003)',\n",
       " 'X-Files: I Want to Believe, The (2008)',\n",
       " 'X2: X-Men United (2003)',\n",
       " \"Young Poisoner's Handbook, The (1995)\"}"
      ]
     },
     "execution_count": 37,
     "metadata": {},
     "output_type": "execute_result"
    }
   ],
   "source": [
    "def get_recommendation_content_model(userId):\n",
    "    \"\"\"\n",
    "    Calculates top movies to be recommended to user based on movie user has watched.  \n",
    "    :param userId: userid of user\n",
    "    :return: Titles of movies recommended to user\n",
    "    \"\"\"\n",
    "    recommended_movie_list = []\n",
    "    movie_list = []\n",
    "    df_rating_filtered = df_ratings[df_ratings[\"userId\"]== userId]\n",
    "    for key, row in df_rating_filtered.iterrows():\n",
    "        movie_list.append((df_movies[\"title\"][row[\"movieId\"]==df_movies[\"movieId\"]]).values) \n",
    "    for index, movie in enumerate(movie_list):\n",
    "        for key,movie_recommended in get_recommendations_based_on_genres(movie[0]).iteritems():\n",
    "            recommended_movie_list.append(movie_recommended)\n",
    "\n",
    "    # removing already watched movie from recommended list    \n",
    "    for movie_title in recommended_movie_list:\n",
    "        if movie_title in movie_list:\n",
    "            recommended_movie_list.remove(movie_title)\n",
    "    \n",
    "    return set(recommended_movie_list)\n",
    "get_recommendation_content_model(150)"
   ]
  },
  {
   "cell_type": "markdown",
   "id": "3e1fd0d7",
   "metadata": {},
   "source": [
    "By using this content based model we get pretty good recommendation for the users.<br>\n",
    "The advantage of this content based recommenders is that they don’t suffer from the cold-start problem, since we only need basic information on a user (in this case a single movie) to provide similar recommendations based on the items. Another interesting advantage is that we are able to recommend to users with unique tastes, which can be a lot more challenging with collaborative filtering methods.<br>\n",
    "An important drawback however is that it tends to recommend the same type of items to the user. In order to be able to recommend a different type of item, the user would have to have rated or have shown interest in the new type of item.<br>\n",
    "This type of problem is not there in the collabrative filtering methods therefore the next method i have used the model based collabrative filtering"
   ]
  },
  {
   "cell_type": "markdown",
   "id": "084f1cbc",
   "metadata": {},
   "source": [
    "## Model Based Collabrative filtering"
   ]
  },
  {
   "cell_type": "markdown",
   "id": "43afb869",
   "metadata": {},
   "source": [
    "The model based collabrative filtering is based on Matrix Factorization(MF)<br>\n",
    "- The goal of MF is to learn the latent preferences of users and the latent attributes of items from known ratings (learn features that describe the characteristics of ratings) to then predict the unknown ratings through the dot product of the latent features of users and items.\n",
    "- When you have a very sparse matrix, with a lot of dimensions, by doing matrix factorization, you can restructure the user-item matrix into low-rank structure, and you can represent the matrix by the multiplication of two low-rank matrices, where the rows contain the latent vector.\n",
    "- You fit this matrix to approximate your original matrix, as closely as possible, by multiplying the low-rank matrices together, which fills in the entries missing in the original matrix."
   ]
  },
  {
   "cell_type": "markdown",
   "id": "f172630c",
   "metadata": {},
   "source": [
    "#### Matrix Factorization"
   ]
  },
  {
   "cell_type": "code",
   "execution_count": 38,
   "id": "617e6d5a",
   "metadata": {},
   "outputs": [
    {
     "data": {
      "text/html": [
       "<div>\n",
       "<style scoped>\n",
       "    .dataframe tbody tr th:only-of-type {\n",
       "        vertical-align: middle;\n",
       "    }\n",
       "\n",
       "    .dataframe tbody tr th {\n",
       "        vertical-align: top;\n",
       "    }\n",
       "\n",
       "    .dataframe thead th {\n",
       "        text-align: right;\n",
       "    }\n",
       "</style>\n",
       "<table border=\"1\" class=\"dataframe\">\n",
       "  <thead>\n",
       "    <tr style=\"text-align: right;\">\n",
       "      <th>movieId</th>\n",
       "      <th>1</th>\n",
       "      <th>2</th>\n",
       "      <th>3</th>\n",
       "      <th>4</th>\n",
       "      <th>5</th>\n",
       "      <th>6</th>\n",
       "      <th>7</th>\n",
       "      <th>8</th>\n",
       "      <th>9</th>\n",
       "      <th>10</th>\n",
       "      <th>...</th>\n",
       "      <th>193565</th>\n",
       "      <th>193567</th>\n",
       "      <th>193571</th>\n",
       "      <th>193573</th>\n",
       "      <th>193579</th>\n",
       "      <th>193581</th>\n",
       "      <th>193583</th>\n",
       "      <th>193585</th>\n",
       "      <th>193587</th>\n",
       "      <th>193609</th>\n",
       "    </tr>\n",
       "    <tr>\n",
       "      <th>userId</th>\n",
       "      <th></th>\n",
       "      <th></th>\n",
       "      <th></th>\n",
       "      <th></th>\n",
       "      <th></th>\n",
       "      <th></th>\n",
       "      <th></th>\n",
       "      <th></th>\n",
       "      <th></th>\n",
       "      <th></th>\n",
       "      <th></th>\n",
       "      <th></th>\n",
       "      <th></th>\n",
       "      <th></th>\n",
       "      <th></th>\n",
       "      <th></th>\n",
       "      <th></th>\n",
       "      <th></th>\n",
       "      <th></th>\n",
       "      <th></th>\n",
       "      <th></th>\n",
       "    </tr>\n",
       "  </thead>\n",
       "  <tbody>\n",
       "    <tr>\n",
       "      <th>1</th>\n",
       "      <td>4.0</td>\n",
       "      <td>0.0</td>\n",
       "      <td>4.0</td>\n",
       "      <td>0.0</td>\n",
       "      <td>0.0</td>\n",
       "      <td>4.0</td>\n",
       "      <td>0.0</td>\n",
       "      <td>0.0</td>\n",
       "      <td>0.0</td>\n",
       "      <td>0.0</td>\n",
       "      <td>...</td>\n",
       "      <td>0.0</td>\n",
       "      <td>0.0</td>\n",
       "      <td>0.0</td>\n",
       "      <td>0.0</td>\n",
       "      <td>0.0</td>\n",
       "      <td>0.0</td>\n",
       "      <td>0.0</td>\n",
       "      <td>0.0</td>\n",
       "      <td>0.0</td>\n",
       "      <td>0.0</td>\n",
       "    </tr>\n",
       "    <tr>\n",
       "      <th>2</th>\n",
       "      <td>0.0</td>\n",
       "      <td>0.0</td>\n",
       "      <td>0.0</td>\n",
       "      <td>0.0</td>\n",
       "      <td>0.0</td>\n",
       "      <td>0.0</td>\n",
       "      <td>0.0</td>\n",
       "      <td>0.0</td>\n",
       "      <td>0.0</td>\n",
       "      <td>0.0</td>\n",
       "      <td>...</td>\n",
       "      <td>0.0</td>\n",
       "      <td>0.0</td>\n",
       "      <td>0.0</td>\n",
       "      <td>0.0</td>\n",
       "      <td>0.0</td>\n",
       "      <td>0.0</td>\n",
       "      <td>0.0</td>\n",
       "      <td>0.0</td>\n",
       "      <td>0.0</td>\n",
       "      <td>0.0</td>\n",
       "    </tr>\n",
       "    <tr>\n",
       "      <th>3</th>\n",
       "      <td>0.0</td>\n",
       "      <td>0.0</td>\n",
       "      <td>0.0</td>\n",
       "      <td>0.0</td>\n",
       "      <td>0.0</td>\n",
       "      <td>0.0</td>\n",
       "      <td>0.0</td>\n",
       "      <td>0.0</td>\n",
       "      <td>0.0</td>\n",
       "      <td>0.0</td>\n",
       "      <td>...</td>\n",
       "      <td>0.0</td>\n",
       "      <td>0.0</td>\n",
       "      <td>0.0</td>\n",
       "      <td>0.0</td>\n",
       "      <td>0.0</td>\n",
       "      <td>0.0</td>\n",
       "      <td>0.0</td>\n",
       "      <td>0.0</td>\n",
       "      <td>0.0</td>\n",
       "      <td>0.0</td>\n",
       "    </tr>\n",
       "    <tr>\n",
       "      <th>4</th>\n",
       "      <td>0.0</td>\n",
       "      <td>0.0</td>\n",
       "      <td>0.0</td>\n",
       "      <td>0.0</td>\n",
       "      <td>0.0</td>\n",
       "      <td>0.0</td>\n",
       "      <td>0.0</td>\n",
       "      <td>0.0</td>\n",
       "      <td>0.0</td>\n",
       "      <td>0.0</td>\n",
       "      <td>...</td>\n",
       "      <td>0.0</td>\n",
       "      <td>0.0</td>\n",
       "      <td>0.0</td>\n",
       "      <td>0.0</td>\n",
       "      <td>0.0</td>\n",
       "      <td>0.0</td>\n",
       "      <td>0.0</td>\n",
       "      <td>0.0</td>\n",
       "      <td>0.0</td>\n",
       "      <td>0.0</td>\n",
       "    </tr>\n",
       "    <tr>\n",
       "      <th>5</th>\n",
       "      <td>4.0</td>\n",
       "      <td>0.0</td>\n",
       "      <td>0.0</td>\n",
       "      <td>0.0</td>\n",
       "      <td>0.0</td>\n",
       "      <td>0.0</td>\n",
       "      <td>0.0</td>\n",
       "      <td>0.0</td>\n",
       "      <td>0.0</td>\n",
       "      <td>0.0</td>\n",
       "      <td>...</td>\n",
       "      <td>0.0</td>\n",
       "      <td>0.0</td>\n",
       "      <td>0.0</td>\n",
       "      <td>0.0</td>\n",
       "      <td>0.0</td>\n",
       "      <td>0.0</td>\n",
       "      <td>0.0</td>\n",
       "      <td>0.0</td>\n",
       "      <td>0.0</td>\n",
       "      <td>0.0</td>\n",
       "    </tr>\n",
       "  </tbody>\n",
       "</table>\n",
       "<p>5 rows × 9724 columns</p>\n",
       "</div>"
      ],
      "text/plain": [
       "movieId  1       2       3       4       5       6       7       8       \\\n",
       "userId                                                                    \n",
       "1           4.0     0.0     4.0     0.0     0.0     4.0     0.0     0.0   \n",
       "2           0.0     0.0     0.0     0.0     0.0     0.0     0.0     0.0   \n",
       "3           0.0     0.0     0.0     0.0     0.0     0.0     0.0     0.0   \n",
       "4           0.0     0.0     0.0     0.0     0.0     0.0     0.0     0.0   \n",
       "5           4.0     0.0     0.0     0.0     0.0     0.0     0.0     0.0   \n",
       "\n",
       "movieId  9       10      ...  193565  193567  193571  193573  193579  193581  \\\n",
       "userId                   ...                                                   \n",
       "1           0.0     0.0  ...     0.0     0.0     0.0     0.0     0.0     0.0   \n",
       "2           0.0     0.0  ...     0.0     0.0     0.0     0.0     0.0     0.0   \n",
       "3           0.0     0.0  ...     0.0     0.0     0.0     0.0     0.0     0.0   \n",
       "4           0.0     0.0  ...     0.0     0.0     0.0     0.0     0.0     0.0   \n",
       "5           0.0     0.0  ...     0.0     0.0     0.0     0.0     0.0     0.0   \n",
       "\n",
       "movieId  193583  193585  193587  193609  \n",
       "userId                                   \n",
       "1           0.0     0.0     0.0     0.0  \n",
       "2           0.0     0.0     0.0     0.0  \n",
       "3           0.0     0.0     0.0     0.0  \n",
       "4           0.0     0.0     0.0     0.0  \n",
       "5           0.0     0.0     0.0     0.0  \n",
       "\n",
       "[5 rows x 9724 columns]"
      ]
     },
     "execution_count": 38,
     "metadata": {},
     "output_type": "execute_result"
    }
   ],
   "source": [
    "Rating=df_ratings.pivot(index = 'userId', columns ='movieId', values = 'rating').fillna(0)\n",
    "Rating.head()"
   ]
  },
  {
   "cell_type": "code",
   "execution_count": 41,
   "id": "9f93eabe",
   "metadata": {
    "scrolled": false
   },
   "outputs": [
    {
     "name": "stdout",
     "output_type": "stream",
     "text": [
      "610\n",
      "[[4.  0.  4.  ... 0.  0.  0. ]\n",
      " [0.  0.  0.  ... 0.  0.  0. ]\n",
      " [0.  0.  0.  ... 0.  0.  0. ]\n",
      " ...\n",
      " [2.5 2.  2.  ... 0.  0.  0. ]\n",
      " [3.  0.  0.  ... 0.  0.  0. ]\n",
      " [5.  0.  0.  ... 0.  0.  0. ]]\n",
      "[0.10417524 0.01177499 0.00976964 0.07897984 0.01645413 0.11281366\n",
      " 0.05049362 0.01727684 0.01542575 0.0472028  0.02488688 0.01444879\n",
      " 0.01162073 0.01676265 0.04787125 0.03753599 0.04545455 0.19266763\n",
      " 0.18850267 0.08936652 0.14854998 0.03146853 0.04540313 0.04128959\n",
      " 0.01285479 0.00699301 0.04925956 0.1770362  0.03450226 0.01655697\n",
      " 0.02015631 0.03938708 0.06077746 0.03023447 0.0096668  0.01624846\n",
      " 0.00894694 0.02581242 0.04113534 0.03990128 0.07260387 0.16135335\n",
      " 0.0533731  0.01655697 0.15903949 0.01727684 0.04396339 0.0136775\n",
      " 0.00920403 0.08864665 0.13939737 0.05985191 0.01028383 0.01028383\n",
      " 0.00730152 0.01799671 0.16608392 0.04494035 0.04792267 0.00843274\n",
      " 0.01624846 0.15364048 0.10119292 0.2003805  0.01408885 0.14263677\n",
      " 0.01470588 0.41901481 0.02067051 0.02756067 0.01295763 0.01923077\n",
      " 0.08016248 0.07774578 0.02293295 0.03774167 0.01192925 0.0198478\n",
      " 0.02766351 0.07316948 0.00740436 0.07892842 0.04015837 0.11116824\n",
      " 0.01295763 0.02828054 0.00853558 0.02324146 0.18500617 0.02262443\n",
      " 0.20079186 0.00971822 0.04278075 0.01748252 0.07018717 0.03116002\n",
      " 0.01552859 0.0370218  0.02108186 0.06005759 0.02231592 0.01933361\n",
      " 0.15148087 0.09846771 0.30563554 0.01506582 0.0136775  0.03116002\n",
      " 0.04206088 0.01953928 0.22187371 0.02401275 0.05625257 0.01095228\n",
      " 0.04339778 0.03074866 0.05666392 0.00863842 0.09234883 0.00771288\n",
      " 0.01964212 0.13651789 0.02324146 0.02051625 0.14289387 0.01285479\n",
      " 0.00704443 0.01480872 0.05645825 0.010181   0.02442411 0.10844303\n",
      " 0.01079803 0.01285479 0.10417524 0.03784451 0.05769231 0.00796997\n",
      " 0.04278075 0.21878856 0.06113739 0.01491156 0.02426985 0.04776841\n",
      " 0.00791855 0.01033525 0.00694159 0.01845948 0.01624846 0.00956397\n",
      " 0.02149321 0.02606952 0.04082682 0.01532291 0.01707116 0.15112094\n",
      " 0.0075072  0.00915261 0.03265117 0.12170917 0.01537433 0.01655697\n",
      " 0.00709585 0.01573427 0.02365282 0.07959687 0.06118881 0.04314068\n",
      " 0.11754422 0.017174   0.03907857 0.01023241 0.00894694 0.02519539\n",
      " 0.00874126 0.0150144  0.31381119 0.03239408 0.02684081 0.00879268\n",
      " 0.0356849  0.35278692 0.02241876 0.05105923 0.01707116 0.09481695\n",
      " 0.10016454 0.02169889 0.00843274 0.02653229 0.03270259 0.00915261\n",
      " 0.0136775  0.00714726 0.0678733  0.01295763 0.01388318 0.08257919\n",
      " 0.12674825 0.13086179 0.04638009 0.1582682  0.01779103 0.03378239\n",
      " 0.01074661 0.01038667 0.0059132  0.0088441  0.01527149 0.05789798\n",
      " 0.03573632 0.09157754 0.03306253 0.00647882 0.03938708 0.06180584\n",
      " 0.17410531 0.00899835 0.17189428 0.08437886 0.14047717 0.08139654\n",
      " 0.02524681 0.02365282 0.0281777  0.18125257 0.04062114 0.00961538\n",
      " 0.02498972 0.04087824 0.00951255 0.28815302 0.05090498 0.07280954\n",
      " 0.02437269 0.01223776 0.01727684 0.01665981 0.11553887 0.05152201\n",
      " 0.0311086  0.01295763 0.01532291 0.03609626 0.00586179 0.08921226\n",
      " 0.05779515 0.01964212 0.39762443 0.01172357 0.01151789 0.01640271\n",
      " 0.02103044 0.05198478 0.01162073 0.07059852 0.00658165 0.01079803\n",
      " 0.00930687 0.05877211 0.02103044 0.01820239 0.08026532 0.02051625\n",
      " 0.05614973 0.06478815 0.02447552 0.04339778 0.01079803 0.01316331\n",
      " 0.01408885 0.01156931 0.02262443 0.44791238 0.16937474 0.0185109\n",
      " 0.01028383 0.00796997 0.06602221 0.07861991 0.00694159 0.09831345\n",
      " 0.01192925 0.03362814 0.01465446 0.04128959 0.04098108 0.34132044\n",
      " 0.00894694 0.1137392  0.01357466 0.15142945 0.00565611 0.11733854\n",
      " 0.01578568 0.01156931 0.01923077 0.22824969 0.00863842 0.01414027\n",
      " 0.03892431 0.01316331 0.02128754 0.08597285 0.27324146 0.03820444\n",
      " 0.26727684 0.0286919  0.04067256 0.02324146 0.00673591 0.08504731\n",
      " 0.12001234 0.04010695 0.01141506 0.0163513  0.07250103 0.33952077\n",
      " 0.01593994 0.0072501  0.02056767 0.03753599 0.03198272 0.00678733\n",
      " 0.09841629 0.06278281 0.02025915 0.08458453 0.00678733 0.09373715\n",
      " 0.06267997 0.09882764 0.00678733 0.05414439 0.01059235 0.02488688\n",
      " 0.03331962 0.01177499 0.15528589 0.01213492 0.02031057 0.01995064\n",
      " 0.02462978 0.02673797 0.02488688 0.06211436 0.01645413 0.02642945\n",
      " 0.01419169 0.01336898 0.05316742 0.11430481 0.03229124 0.08679556\n",
      " 0.01038667 0.11949815 0.1558515  0.01372892 0.0260181  0.00863842\n",
      " 0.03172563 0.04756273 0.010181   0.00904977 0.07836281 0.0125977\n",
      " 0.07342657 0.1370835  0.04499177 0.03393665 0.01917935 0.08144796\n",
      " 0.03280543 0.0123406  0.01326615 0.05558412 0.05270465 0.01974496\n",
      " 0.01254628 0.46009872 0.17266557 0.10499794 0.01326615 0.02221308\n",
      " 0.07034142 0.01923077 0.3441485  0.01079803 0.01439737 0.03198272\n",
      " 0.14747018 0.00822707 0.04859111 0.00699301 0.01912793 0.00904977\n",
      " 0.00935829 0.0201049  0.01460304 0.01995064 0.02612094 0.01902509\n",
      " 0.01316331 0.02097902 0.04946524 0.00668449 0.00930687 0.05933772\n",
      " 0.04977376 0.06972439 0.04257507 0.04082682 0.02540107 0.94112505\n",
      " 0.03948992 0.0160942  0.03074866 0.03481078 0.0606232  0.05542986\n",
      " 0.01563143 0.03177705 0.00879268 0.05213904 0.11116824 0.03331962\n",
      " 0.02678939 0.08144796 0.02375566 0.02231592 0.00560469 0.09749074\n",
      " 0.00853558 0.09060058 0.01866516 0.03465652 0.04771699 0.21909708\n",
      " 0.00889552 0.01321473 0.0209276  0.00262238 0.01568285 0.01645413\n",
      " 0.03054299 0.02776635 0.03105718 0.54581448 0.01285479 0.02097902\n",
      " 0.01326615 0.09466269 0.1260798  0.0174311  0.02025915 0.01686549\n",
      " 0.01779103 0.02519539 0.01162073 0.03542781 0.00817565 0.15939942\n",
      " 0.01285479 0.05327026 0.04915673 0.04566022 0.00771288 0.01151789\n",
      " 0.17564788 0.02889757 0.01115796 0.01228918 0.01300905 0.73683669\n",
      " 0.07029    0.02612094 0.23056355 0.00637598 0.06180584 0.28157137\n",
      " 0.00894694 0.04483752 0.2709276  0.10787742 0.00915261 0.02313863\n",
      " 0.01809955 0.04432332 0.20110037 0.03671329 0.027355   0.04812834\n",
      " 0.02313863 0.00956397 0.10926573 0.010181   0.01871658 0.01460304\n",
      " 0.01064377 0.0286919  0.01480872 0.0123406  0.03265117 0.03419375\n",
      " 0.01331756 0.01408885 0.00730152 0.00529617 0.15446318 0.03223982\n",
      " 0.02205882 0.01943645 0.01280337 0.135181   0.01295763 0.00987248\n",
      " 0.09815919 0.00874126 0.01156931 0.07424928 0.01480872 0.07877417\n",
      " 0.0361991  0.04658577 0.1821267  0.02498972 0.07075278 0.02606952\n",
      " 0.00822707 0.01048951 0.00853558 0.0220074  0.01712258 0.20346565\n",
      " 0.00822707 0.01398601 0.01964212 0.01701974 0.01486014 0.01727684\n",
      " 0.03033731 0.0407754  0.03481078 0.00987248 0.00796997 0.02262443\n",
      " 0.00894694 0.01095228 0.00791855 0.01182641 0.04699712 0.06031469\n",
      " 0.0370218  0.03661045 0.20536816 0.0134204  0.01069519 0.02262443\n",
      " 0.04730564 0.16803784 0.17513369 0.09723365 0.07229535 0.05779515\n",
      " 0.01090086 0.02694364 0.08890374 0.00976964 0.00822707 0.06710202\n",
      " 0.02961744 0.0657137  0.12952489 0.00935829 0.01172357 0.00637598\n",
      " 0.05902921 0.0110037  0.02982312 0.1582682  0.01799671 0.02319005\n",
      " 0.01897367 0.03506787 0.02720074 0.09337721 0.06746195 0.01871658\n",
      " 0.01655697 0.25123406 0.01820239 0.03465652 0.0346051  0.09363431\n",
      " 0.00863842 0.14772727 0.18120115 0.00822707 0.6732826  0.23472851\n",
      " 0.04596874 0.04709996 0.34018922 0.03578774 0.0729638  0.41937474\n",
      " 0.07280954 0.26784245 0.01244344 0.49388112]\n",
      "[[ 3.89582476 -0.10417524  3.89582476 ... -0.10417524 -0.10417524\n",
      "  -0.10417524]\n",
      " [-0.01177499 -0.01177499 -0.01177499 ... -0.01177499 -0.01177499\n",
      "  -0.01177499]\n",
      " [-0.00976964 -0.00976964 -0.00976964 ... -0.00976964 -0.00976964\n",
      "  -0.00976964]\n",
      " ...\n",
      " [ 2.23215755  1.73215755  1.73215755 ... -0.26784245 -0.26784245\n",
      "  -0.26784245]\n",
      " [ 2.98755656 -0.01244344 -0.01244344 ... -0.01244344 -0.01244344\n",
      "  -0.01244344]\n",
      " [ 4.50611888 -0.49388112 -0.49388112 ... -0.49388112 -0.49388112\n",
      "  -0.49388112]]\n"
     ]
    }
   ],
   "source": [
    "R = Rating.to_numpy()\n",
    "user_ratings_mean = np.mean(R, axis = 1)\n",
    "print(user_ratings_mean.size)\n",
    "Ratings_demeaned = R - user_ratings_mean.reshape(-1, 1)\n",
    "print(R)\n",
    "print(user_ratings_mean)\n",
    "print(Ratings_demeaned)"
   ]
  },
  {
   "cell_type": "markdown",
   "id": "f4d78763",
   "metadata": {},
   "source": [
    "### Setting up SVD"
   ]
  },
  {
   "cell_type": "code",
   "execution_count": 42,
   "id": "c6b8b9aa",
   "metadata": {},
   "outputs": [],
   "source": [
    "from scipy.sparse.linalg import svds "
   ]
  },
  {
   "cell_type": "code",
   "execution_count": 70,
   "id": "a85bde6c",
   "metadata": {},
   "outputs": [],
   "source": [
    "U, sigma, Vt = svds(Ratings_demeaned, k = 50)"
   ]
  },
  {
   "cell_type": "code",
   "execution_count": 71,
   "id": "8ef80d79",
   "metadata": {},
   "outputs": [
    {
     "name": "stdout",
     "output_type": "stream",
     "text": [
      "Size of sigma:  50\n"
     ]
    }
   ],
   "source": [
    "print('Size of sigma: ' , sigma.size)"
   ]
  },
  {
   "cell_type": "code",
   "execution_count": 72,
   "id": "4b1d70fd",
   "metadata": {},
   "outputs": [],
   "source": [
    "# Converting the sigma to diagonal matrix form"
   ]
  },
  {
   "cell_type": "code",
   "execution_count": 73,
   "id": "83b42751",
   "metadata": {},
   "outputs": [],
   "source": [
    "sigma = np.diag(sigma)"
   ]
  },
  {
   "cell_type": "code",
   "execution_count": 74,
   "id": "0796126b",
   "metadata": {},
   "outputs": [
    {
     "name": "stdout",
     "output_type": "stream",
     "text": [
      "Shape of sigma:  (50, 50)\n",
      "[[ 67.86628347   0.           0.         ...   0.           0.\n",
      "    0.        ]\n",
      " [  0.          68.1967072    0.         ...   0.           0.\n",
      "    0.        ]\n",
      " [  0.           0.          69.02678246 ...   0.           0.\n",
      "    0.        ]\n",
      " ...\n",
      " [  0.           0.           0.         ... 184.86187801   0.\n",
      "    0.        ]\n",
      " [  0.           0.           0.         ...   0.         231.22453421\n",
      "    0.        ]\n",
      " [  0.           0.           0.         ...   0.           0.\n",
      "  474.20606204]]\n"
     ]
    }
   ],
   "source": [
    "print('Shape of sigma: ', sigma.shape)\n",
    "print(sigma)"
   ]
  },
  {
   "cell_type": "code",
   "execution_count": 75,
   "id": "bb5e9199",
   "metadata": {},
   "outputs": [
    {
     "name": "stdout",
     "output_type": "stream",
     "text": [
      "Shape of U:  (610, 50)\n",
      "Shape of Vt:  (50, 9724)\n"
     ]
    }
   ],
   "source": [
    "print('Shape of U: ', U.shape)\n",
    "print('Shape of Vt: ', Vt.shape)"
   ]
  },
  {
   "cell_type": "markdown",
   "id": "96d3f818",
   "metadata": {},
   "source": [
    "### Making Predictions from the Decomposed Matrices"
   ]
  },
  {
   "cell_type": "code",
   "execution_count": 76,
   "id": "dfbda733",
   "metadata": {},
   "outputs": [],
   "source": [
    "# We now have everything we need to make movie ratings predictions for every user. "
   ]
  },
  {
   "cell_type": "code",
   "execution_count": 77,
   "id": "49dbb04b",
   "metadata": {},
   "outputs": [],
   "source": [
    "all_user_predicted_ratings = np.dot(np.dot(U, sigma), Vt) + user_ratings_mean.reshape(-1, 1)"
   ]
  },
  {
   "cell_type": "code",
   "execution_count": 78,
   "id": "85e1fd16",
   "metadata": {},
   "outputs": [
    {
     "name": "stdout",
     "output_type": "stream",
     "text": [
      "All user predicted rating :  (610, 9724)\n"
     ]
    }
   ],
   "source": [
    "print('All user predicted rating : ', all_user_predicted_ratings.shape)"
   ]
  },
  {
   "cell_type": "code",
   "execution_count": 79,
   "id": "b664bc8c",
   "metadata": {},
   "outputs": [],
   "source": [
    "# With the predictions matrix for every user, we can build a function to recommend movies for any user.\n",
    "# Also returning the list of movies the user has already rated, for the sake of comparison."
   ]
  },
  {
   "cell_type": "code",
   "execution_count": 80,
   "id": "1f9daee5",
   "metadata": {},
   "outputs": [
    {
     "name": "stdout",
     "output_type": "stream",
     "text": [
      "Rating Dataframe column names Int64Index([     1,      2,      3,      4,      5,      6,      7,      8,\n",
      "                 9,     10,\n",
      "            ...\n",
      "            193565, 193567, 193571, 193573, 193579, 193581, 193583, 193585,\n",
      "            193587, 193609],\n",
      "           dtype='int64', name='movieId', length=9724)\n"
     ]
    }
   ],
   "source": [
    "print('Rating Dataframe column names', Rating.columns)"
   ]
  },
  {
   "cell_type": "code",
   "execution_count": 81,
   "id": "0b172586",
   "metadata": {},
   "outputs": [
    {
     "data": {
      "text/html": [
       "<div>\n",
       "<style scoped>\n",
       "    .dataframe tbody tr th:only-of-type {\n",
       "        vertical-align: middle;\n",
       "    }\n",
       "\n",
       "    .dataframe tbody tr th {\n",
       "        vertical-align: top;\n",
       "    }\n",
       "\n",
       "    .dataframe thead th {\n",
       "        text-align: right;\n",
       "    }\n",
       "</style>\n",
       "<table border=\"1\" class=\"dataframe\">\n",
       "  <thead>\n",
       "    <tr style=\"text-align: right;\">\n",
       "      <th>movieId</th>\n",
       "      <th>1</th>\n",
       "      <th>2</th>\n",
       "      <th>3</th>\n",
       "      <th>4</th>\n",
       "      <th>5</th>\n",
       "      <th>6</th>\n",
       "      <th>7</th>\n",
       "      <th>8</th>\n",
       "      <th>9</th>\n",
       "      <th>10</th>\n",
       "      <th>...</th>\n",
       "      <th>193565</th>\n",
       "      <th>193567</th>\n",
       "      <th>193571</th>\n",
       "      <th>193573</th>\n",
       "      <th>193579</th>\n",
       "      <th>193581</th>\n",
       "      <th>193583</th>\n",
       "      <th>193585</th>\n",
       "      <th>193587</th>\n",
       "      <th>193609</th>\n",
       "    </tr>\n",
       "  </thead>\n",
       "  <tbody>\n",
       "    <tr>\n",
       "      <th>0</th>\n",
       "      <td>2.167328</td>\n",
       "      <td>0.402751</td>\n",
       "      <td>0.840184</td>\n",
       "      <td>-0.076281</td>\n",
       "      <td>-0.551337</td>\n",
       "      <td>2.504091</td>\n",
       "      <td>-0.890114</td>\n",
       "      <td>-0.026443</td>\n",
       "      <td>0.196974</td>\n",
       "      <td>1.593259</td>\n",
       "      <td>...</td>\n",
       "      <td>-0.023453</td>\n",
       "      <td>-0.019967</td>\n",
       "      <td>-0.026939</td>\n",
       "      <td>-0.026939</td>\n",
       "      <td>-0.023453</td>\n",
       "      <td>-0.026939</td>\n",
       "      <td>-0.023453</td>\n",
       "      <td>-0.023453</td>\n",
       "      <td>-0.023453</td>\n",
       "      <td>-0.058732</td>\n",
       "    </tr>\n",
       "    <tr>\n",
       "      <th>1</th>\n",
       "      <td>0.211459</td>\n",
       "      <td>0.006658</td>\n",
       "      <td>0.033455</td>\n",
       "      <td>0.017419</td>\n",
       "      <td>0.183430</td>\n",
       "      <td>-0.062473</td>\n",
       "      <td>0.083037</td>\n",
       "      <td>0.024158</td>\n",
       "      <td>0.049330</td>\n",
       "      <td>-0.152530</td>\n",
       "      <td>...</td>\n",
       "      <td>0.019498</td>\n",
       "      <td>0.016777</td>\n",
       "      <td>0.022219</td>\n",
       "      <td>0.022219</td>\n",
       "      <td>0.019498</td>\n",
       "      <td>0.022219</td>\n",
       "      <td>0.019498</td>\n",
       "      <td>0.019498</td>\n",
       "      <td>0.019498</td>\n",
       "      <td>0.032281</td>\n",
       "    </tr>\n",
       "    <tr>\n",
       "      <th>2</th>\n",
       "      <td>0.003588</td>\n",
       "      <td>0.030518</td>\n",
       "      <td>0.046393</td>\n",
       "      <td>0.008176</td>\n",
       "      <td>-0.006247</td>\n",
       "      <td>0.107328</td>\n",
       "      <td>-0.012416</td>\n",
       "      <td>0.003779</td>\n",
       "      <td>0.007297</td>\n",
       "      <td>-0.059362</td>\n",
       "      <td>...</td>\n",
       "      <td>0.005909</td>\n",
       "      <td>0.006209</td>\n",
       "      <td>0.005610</td>\n",
       "      <td>0.005610</td>\n",
       "      <td>0.005909</td>\n",
       "      <td>0.005610</td>\n",
       "      <td>0.005909</td>\n",
       "      <td>0.005909</td>\n",
       "      <td>0.005909</td>\n",
       "      <td>0.008004</td>\n",
       "    </tr>\n",
       "    <tr>\n",
       "      <th>3</th>\n",
       "      <td>2.051549</td>\n",
       "      <td>-0.387104</td>\n",
       "      <td>-0.252199</td>\n",
       "      <td>0.087562</td>\n",
       "      <td>0.130465</td>\n",
       "      <td>0.270210</td>\n",
       "      <td>0.477835</td>\n",
       "      <td>0.040313</td>\n",
       "      <td>0.025858</td>\n",
       "      <td>-0.017365</td>\n",
       "      <td>...</td>\n",
       "      <td>0.004836</td>\n",
       "      <td>0.004172</td>\n",
       "      <td>0.005500</td>\n",
       "      <td>0.005500</td>\n",
       "      <td>0.004836</td>\n",
       "      <td>0.005500</td>\n",
       "      <td>0.004836</td>\n",
       "      <td>0.004836</td>\n",
       "      <td>0.004836</td>\n",
       "      <td>-0.023311</td>\n",
       "    </tr>\n",
       "    <tr>\n",
       "      <th>4</th>\n",
       "      <td>1.344738</td>\n",
       "      <td>0.778511</td>\n",
       "      <td>0.065749</td>\n",
       "      <td>0.111744</td>\n",
       "      <td>0.273144</td>\n",
       "      <td>0.584426</td>\n",
       "      <td>0.254930</td>\n",
       "      <td>0.128788</td>\n",
       "      <td>-0.085541</td>\n",
       "      <td>1.023455</td>\n",
       "      <td>...</td>\n",
       "      <td>-0.008042</td>\n",
       "      <td>-0.007419</td>\n",
       "      <td>-0.008664</td>\n",
       "      <td>-0.008664</td>\n",
       "      <td>-0.008042</td>\n",
       "      <td>-0.008664</td>\n",
       "      <td>-0.008042</td>\n",
       "      <td>-0.008042</td>\n",
       "      <td>-0.008042</td>\n",
       "      <td>-0.010127</td>\n",
       "    </tr>\n",
       "  </tbody>\n",
       "</table>\n",
       "<p>5 rows × 9724 columns</p>\n",
       "</div>"
      ],
      "text/plain": [
       "movieId    1         2         3         4         5         6         7       \\\n",
       "0        2.167328  0.402751  0.840184 -0.076281 -0.551337  2.504091 -0.890114   \n",
       "1        0.211459  0.006658  0.033455  0.017419  0.183430 -0.062473  0.083037   \n",
       "2        0.003588  0.030518  0.046393  0.008176 -0.006247  0.107328 -0.012416   \n",
       "3        2.051549 -0.387104 -0.252199  0.087562  0.130465  0.270210  0.477835   \n",
       "4        1.344738  0.778511  0.065749  0.111744  0.273144  0.584426  0.254930   \n",
       "\n",
       "movieId    8         9         10      ...    193565    193567    193571  \\\n",
       "0       -0.026443  0.196974  1.593259  ... -0.023453 -0.019967 -0.026939   \n",
       "1        0.024158  0.049330 -0.152530  ...  0.019498  0.016777  0.022219   \n",
       "2        0.003779  0.007297 -0.059362  ...  0.005909  0.006209  0.005610   \n",
       "3        0.040313  0.025858 -0.017365  ...  0.004836  0.004172  0.005500   \n",
       "4        0.128788 -0.085541  1.023455  ... -0.008042 -0.007419 -0.008664   \n",
       "\n",
       "movieId    193573    193579    193581    193583    193585    193587    193609  \n",
       "0       -0.026939 -0.023453 -0.026939 -0.023453 -0.023453 -0.023453 -0.058732  \n",
       "1        0.022219  0.019498  0.022219  0.019498  0.019498  0.019498  0.032281  \n",
       "2        0.005610  0.005909  0.005610  0.005909  0.005909  0.005909  0.008004  \n",
       "3        0.005500  0.004836  0.005500  0.004836  0.004836  0.004836 -0.023311  \n",
       "4       -0.008664 -0.008042 -0.008664 -0.008042 -0.008042 -0.008042 -0.010127  \n",
       "\n",
       "[5 rows x 9724 columns]"
      ]
     },
     "execution_count": 81,
     "metadata": {},
     "output_type": "execute_result"
    }
   ],
   "source": [
    "preds = pd.DataFrame(all_user_predicted_ratings, columns = Rating.columns)\n",
    "preds.head()"
   ]
  },
  {
   "cell_type": "markdown",
   "id": "ef83cd51",
   "metadata": {},
   "source": [
    "#### Writing a functionto return the movies with the highest predicted rating that the specified user hasn't already rated. "
   ]
  },
  {
   "cell_type": "code",
   "execution_count": 82,
   "id": "6113762a",
   "metadata": {},
   "outputs": [],
   "source": [
    "def recommend_movies(predictions, userID, movies, original_ratings, num_recommendations):\n",
    "    \"\"\"\n",
    "    Implementation of SVD by hand\n",
    "    :param predictions : The SVD reconstructed matrix, \n",
    "    userID : UserId for which you want to predict the top rated movies, \n",
    "    movies : Matrix with movie data, original_ratings : Original Rating matrix, \n",
    "    num_recommendations : num of recommendations to be returned\n",
    "    :return: num_recommendations top movies\n",
    "    \"\"\" \n",
    "    # Get and sort the user's predictions\n",
    "    user_row_number = userID - 1 # User ID starts at 1, not 0\n",
    "    sorted_user_predictions = predictions.iloc[user_row_number].sort_values(ascending=False) # User ID starts at 1\n",
    "    \n",
    "    # Get the user's data and merge in the movie information.\n",
    "    user_data = original_ratings[original_ratings.userId == (userID)]\n",
    "    user_full = (user_data.merge(movies, how = 'left', left_on = 'movieId', right_on = 'movieId').\n",
    "                     sort_values(['rating'], ascending=False)\n",
    "                 )\n",
    "\n",
    "    print('User {0} has already rated {1} movies.'.format(userID, user_full.shape[0]))\n",
    "    print('Recommending highest {0} predicted ratings movies not already rated.'.format(num_recommendations))\n",
    "    \n",
    "    # Recommend the highest predicted rating movies that the user hasn't seen yet.\n",
    "    recommendations = (movies[~movies['movieId'].isin(user_full['movieId'])].\n",
    "         merge(pd.DataFrame(sorted_user_predictions).reset_index(), how = 'left',\n",
    "               left_on = 'movieId',\n",
    "               right_on = 'movieId').\n",
    "         rename(columns = {user_row_number: 'Predictions'}).\n",
    "         sort_values('Predictions', ascending = False).\n",
    "                       iloc[:num_recommendations, :-1]\n",
    "                      )\n",
    "\n",
    "    return user_full, recommendations"
   ]
  },
  {
   "cell_type": "markdown",
   "id": "ec058624",
   "metadata": {},
   "source": [
    "Trying to recommend 20 movies for user with ID 150."
   ]
  },
  {
   "cell_type": "code",
   "execution_count": 83,
   "id": "5e6e3658",
   "metadata": {},
   "outputs": [
    {
     "name": "stdout",
     "output_type": "stream",
     "text": [
      "User 150 has already rated 26 movies.\n",
      "Recommending highest 20 predicted ratings movies not already rated.\n"
     ]
    }
   ],
   "source": [
    "already_rated, predictions = recommend_movies(preds, 150, df_movies , df_ratings, 20)"
   ]
  },
  {
   "cell_type": "code",
   "execution_count": 84,
   "id": "b0cfba35",
   "metadata": {},
   "outputs": [
    {
     "data": {
      "text/html": [
       "<div>\n",
       "<style scoped>\n",
       "    .dataframe tbody tr th:only-of-type {\n",
       "        vertical-align: middle;\n",
       "    }\n",
       "\n",
       "    .dataframe tbody tr th {\n",
       "        vertical-align: top;\n",
       "    }\n",
       "\n",
       "    .dataframe thead th {\n",
       "        text-align: right;\n",
       "    }\n",
       "</style>\n",
       "<table border=\"1\" class=\"dataframe\">\n",
       "  <thead>\n",
       "    <tr style=\"text-align: right;\">\n",
       "      <th></th>\n",
       "      <th>userId</th>\n",
       "      <th>movieId</th>\n",
       "      <th>rating</th>\n",
       "      <th>timestamp</th>\n",
       "      <th>title</th>\n",
       "      <th>genres</th>\n",
       "    </tr>\n",
       "  </thead>\n",
       "  <tbody>\n",
       "    <tr>\n",
       "      <th>25</th>\n",
       "      <td>150</td>\n",
       "      <td>1356</td>\n",
       "      <td>5.0</td>\n",
       "      <td>854203229</td>\n",
       "      <td>Star Trek: First Contact (1996)</td>\n",
       "      <td>Action|Adventure|Sci-Fi|Thriller</td>\n",
       "    </tr>\n",
       "    <tr>\n",
       "      <th>5</th>\n",
       "      <td>150</td>\n",
       "      <td>32</td>\n",
       "      <td>5.0</td>\n",
       "      <td>854203071</td>\n",
       "      <td>Twelve Monkeys (a.k.a. 12 Monkeys) (1995)</td>\n",
       "      <td>Mystery|Sci-Fi|Thriller</td>\n",
       "    </tr>\n",
       "    <tr>\n",
       "      <th>12</th>\n",
       "      <td>150</td>\n",
       "      <td>141</td>\n",
       "      <td>5.0</td>\n",
       "      <td>854203072</td>\n",
       "      <td>Birdcage, The (1996)</td>\n",
       "      <td>Comedy</td>\n",
       "    </tr>\n",
       "    <tr>\n",
       "      <th>17</th>\n",
       "      <td>150</td>\n",
       "      <td>648</td>\n",
       "      <td>4.0</td>\n",
       "      <td>854203072</td>\n",
       "      <td>Mission: Impossible (1996)</td>\n",
       "      <td>Action|Adventure|Mystery|Thriller</td>\n",
       "    </tr>\n",
       "    <tr>\n",
       "      <th>2</th>\n",
       "      <td>150</td>\n",
       "      <td>6</td>\n",
       "      <td>4.0</td>\n",
       "      <td>854203123</td>\n",
       "      <td>Heat (1995)</td>\n",
       "      <td>Action|Crime|Thriller</td>\n",
       "    </tr>\n",
       "    <tr>\n",
       "      <th>4</th>\n",
       "      <td>150</td>\n",
       "      <td>25</td>\n",
       "      <td>4.0</td>\n",
       "      <td>854203072</td>\n",
       "      <td>Leaving Las Vegas (1995)</td>\n",
       "      <td>Drama|Romance</td>\n",
       "    </tr>\n",
       "    <tr>\n",
       "      <th>6</th>\n",
       "      <td>150</td>\n",
       "      <td>36</td>\n",
       "      <td>4.0</td>\n",
       "      <td>854203123</td>\n",
       "      <td>Dead Man Walking (1995)</td>\n",
       "      <td>Crime|Drama</td>\n",
       "    </tr>\n",
       "    <tr>\n",
       "      <th>7</th>\n",
       "      <td>150</td>\n",
       "      <td>52</td>\n",
       "      <td>4.0</td>\n",
       "      <td>854203163</td>\n",
       "      <td>Mighty Aphrodite (1995)</td>\n",
       "      <td>Comedy|Drama|Romance</td>\n",
       "    </tr>\n",
       "    <tr>\n",
       "      <th>23</th>\n",
       "      <td>150</td>\n",
       "      <td>805</td>\n",
       "      <td>4.0</td>\n",
       "      <td>854203230</td>\n",
       "      <td>Time to Kill, A (1996)</td>\n",
       "      <td>Drama|Thriller</td>\n",
       "    </tr>\n",
       "    <tr>\n",
       "      <th>20</th>\n",
       "      <td>150</td>\n",
       "      <td>780</td>\n",
       "      <td>4.0</td>\n",
       "      <td>854203071</td>\n",
       "      <td>Independence Day (a.k.a. ID4) (1996)</td>\n",
       "      <td>Action|Adventure|Sci-Fi|Thriller</td>\n",
       "    </tr>\n",
       "    <tr>\n",
       "      <th>19</th>\n",
       "      <td>150</td>\n",
       "      <td>733</td>\n",
       "      <td>4.0</td>\n",
       "      <td>854203123</td>\n",
       "      <td>Rock, The (1996)</td>\n",
       "      <td>Action|Adventure|Thriller</td>\n",
       "    </tr>\n",
       "    <tr>\n",
       "      <th>15</th>\n",
       "      <td>150</td>\n",
       "      <td>608</td>\n",
       "      <td>4.0</td>\n",
       "      <td>854203123</td>\n",
       "      <td>Fargo (1996)</td>\n",
       "      <td>Comedy|Crime|Drama|Thriller</td>\n",
       "    </tr>\n",
       "    <tr>\n",
       "      <th>24</th>\n",
       "      <td>150</td>\n",
       "      <td>1073</td>\n",
       "      <td>3.0</td>\n",
       "      <td>854203163</td>\n",
       "      <td>Willy Wonka &amp; the Chocolate Factory (1971)</td>\n",
       "      <td>Children|Comedy|Fantasy|Musical</td>\n",
       "    </tr>\n",
       "    <tr>\n",
       "      <th>22</th>\n",
       "      <td>150</td>\n",
       "      <td>786</td>\n",
       "      <td>3.0</td>\n",
       "      <td>854203163</td>\n",
       "      <td>Eraser (1996)</td>\n",
       "      <td>Action|Drama|Thriller</td>\n",
       "    </tr>\n",
       "    <tr>\n",
       "      <th>21</th>\n",
       "      <td>150</td>\n",
       "      <td>784</td>\n",
       "      <td>3.0</td>\n",
       "      <td>854203163</td>\n",
       "      <td>Cable Guy, The (1996)</td>\n",
       "      <td>Comedy|Thriller</td>\n",
       "    </tr>\n",
       "    <tr>\n",
       "      <th>18</th>\n",
       "      <td>150</td>\n",
       "      <td>653</td>\n",
       "      <td>3.0</td>\n",
       "      <td>854203163</td>\n",
       "      <td>Dragonheart (1996)</td>\n",
       "      <td>Action|Adventure|Fantasy</td>\n",
       "    </tr>\n",
       "    <tr>\n",
       "      <th>0</th>\n",
       "      <td>150</td>\n",
       "      <td>3</td>\n",
       "      <td>3.0</td>\n",
       "      <td>854203124</td>\n",
       "      <td>Grumpier Old Men (1995)</td>\n",
       "      <td>Comedy|Romance</td>\n",
       "    </tr>\n",
       "    <tr>\n",
       "      <th>16</th>\n",
       "      <td>150</td>\n",
       "      <td>628</td>\n",
       "      <td>3.0</td>\n",
       "      <td>854203229</td>\n",
       "      <td>Primal Fear (1996)</td>\n",
       "      <td>Crime|Drama|Mystery|Thriller</td>\n",
       "    </tr>\n",
       "    <tr>\n",
       "      <th>14</th>\n",
       "      <td>150</td>\n",
       "      <td>494</td>\n",
       "      <td>3.0</td>\n",
       "      <td>854203124</td>\n",
       "      <td>Executive Decision (1996)</td>\n",
       "      <td>Action|Adventure|Thriller</td>\n",
       "    </tr>\n",
       "    <tr>\n",
       "      <th>1</th>\n",
       "      <td>150</td>\n",
       "      <td>5</td>\n",
       "      <td>3.0</td>\n",
       "      <td>854203124</td>\n",
       "      <td>Father of the Bride Part II (1995)</td>\n",
       "      <td>Comedy</td>\n",
       "    </tr>\n",
       "  </tbody>\n",
       "</table>\n",
       "</div>"
      ],
      "text/plain": [
       "    userId  movieId  rating  timestamp  \\\n",
       "25     150     1356     5.0  854203229   \n",
       "5      150       32     5.0  854203071   \n",
       "12     150      141     5.0  854203072   \n",
       "17     150      648     4.0  854203072   \n",
       "2      150        6     4.0  854203123   \n",
       "4      150       25     4.0  854203072   \n",
       "6      150       36     4.0  854203123   \n",
       "7      150       52     4.0  854203163   \n",
       "23     150      805     4.0  854203230   \n",
       "20     150      780     4.0  854203071   \n",
       "19     150      733     4.0  854203123   \n",
       "15     150      608     4.0  854203123   \n",
       "24     150     1073     3.0  854203163   \n",
       "22     150      786     3.0  854203163   \n",
       "21     150      784     3.0  854203163   \n",
       "18     150      653     3.0  854203163   \n",
       "0      150        3     3.0  854203124   \n",
       "16     150      628     3.0  854203229   \n",
       "14     150      494     3.0  854203124   \n",
       "1      150        5     3.0  854203124   \n",
       "\n",
       "                                         title  \\\n",
       "25             Star Trek: First Contact (1996)   \n",
       "5    Twelve Monkeys (a.k.a. 12 Monkeys) (1995)   \n",
       "12                        Birdcage, The (1996)   \n",
       "17                  Mission: Impossible (1996)   \n",
       "2                                  Heat (1995)   \n",
       "4                     Leaving Las Vegas (1995)   \n",
       "6                      Dead Man Walking (1995)   \n",
       "7                      Mighty Aphrodite (1995)   \n",
       "23                      Time to Kill, A (1996)   \n",
       "20        Independence Day (a.k.a. ID4) (1996)   \n",
       "19                            Rock, The (1996)   \n",
       "15                                Fargo (1996)   \n",
       "24  Willy Wonka & the Chocolate Factory (1971)   \n",
       "22                               Eraser (1996)   \n",
       "21                       Cable Guy, The (1996)   \n",
       "18                          Dragonheart (1996)   \n",
       "0                      Grumpier Old Men (1995)   \n",
       "16                          Primal Fear (1996)   \n",
       "14                   Executive Decision (1996)   \n",
       "1           Father of the Bride Part II (1995)   \n",
       "\n",
       "                               genres  \n",
       "25   Action|Adventure|Sci-Fi|Thriller  \n",
       "5             Mystery|Sci-Fi|Thriller  \n",
       "12                             Comedy  \n",
       "17  Action|Adventure|Mystery|Thriller  \n",
       "2               Action|Crime|Thriller  \n",
       "4                       Drama|Romance  \n",
       "6                         Crime|Drama  \n",
       "7                Comedy|Drama|Romance  \n",
       "23                     Drama|Thriller  \n",
       "20   Action|Adventure|Sci-Fi|Thriller  \n",
       "19          Action|Adventure|Thriller  \n",
       "15        Comedy|Crime|Drama|Thriller  \n",
       "24    Children|Comedy|Fantasy|Musical  \n",
       "22              Action|Drama|Thriller  \n",
       "21                    Comedy|Thriller  \n",
       "18           Action|Adventure|Fantasy  \n",
       "0                      Comedy|Romance  \n",
       "16       Crime|Drama|Mystery|Thriller  \n",
       "14          Action|Adventure|Thriller  \n",
       "1                              Comedy  "
      ]
     },
     "execution_count": 84,
     "metadata": {},
     "output_type": "execute_result"
    }
   ],
   "source": [
    "# Top 20 movies that the user has already rated \n",
    "already_rated.head(20)"
   ]
  },
  {
   "cell_type": "code",
   "execution_count": 85,
   "id": "9885c385",
   "metadata": {},
   "outputs": [
    {
     "data": {
      "text/html": [
       "<div>\n",
       "<style scoped>\n",
       "    .dataframe tbody tr th:only-of-type {\n",
       "        vertical-align: middle;\n",
       "    }\n",
       "\n",
       "    .dataframe tbody tr th {\n",
       "        vertical-align: top;\n",
       "    }\n",
       "\n",
       "    .dataframe thead th {\n",
       "        text-align: right;\n",
       "    }\n",
       "</style>\n",
       "<table border=\"1\" class=\"dataframe\">\n",
       "  <thead>\n",
       "    <tr style=\"text-align: right;\">\n",
       "      <th></th>\n",
       "      <th>movieId</th>\n",
       "      <th>title</th>\n",
       "      <th>genres</th>\n",
       "    </tr>\n",
       "  </thead>\n",
       "  <tbody>\n",
       "    <tr>\n",
       "      <th>574</th>\n",
       "      <td>736</td>\n",
       "      <td>Twister (1996)</td>\n",
       "      <td>Action|Adventure|Romance|Thriller</td>\n",
       "    </tr>\n",
       "    <tr>\n",
       "      <th>0</th>\n",
       "      <td>1</td>\n",
       "      <td>Toy Story (1995)</td>\n",
       "      <td>Adventure|Animation|Children|Comedy|Fantasy</td>\n",
       "    </tr>\n",
       "    <tr>\n",
       "      <th>211</th>\n",
       "      <td>260</td>\n",
       "      <td>Star Wars: Episode IV - A New Hope (1977)</td>\n",
       "      <td>Action|Adventure|Sci-Fi</td>\n",
       "    </tr>\n",
       "    <tr>\n",
       "      <th>607</th>\n",
       "      <td>802</td>\n",
       "      <td>Phenomenon (1996)</td>\n",
       "      <td>Drama|Romance</td>\n",
       "    </tr>\n",
       "    <tr>\n",
       "      <th>12</th>\n",
       "      <td>17</td>\n",
       "      <td>Sense and Sensibility (1995)</td>\n",
       "      <td>Drama|Romance</td>\n",
       "    </tr>\n",
       "    <tr>\n",
       "      <th>87</th>\n",
       "      <td>112</td>\n",
       "      <td>Rumble in the Bronx (Hont faan kui) (1995)</td>\n",
       "      <td>Action|Adventure|Comedy|Crime</td>\n",
       "    </tr>\n",
       "    <tr>\n",
       "      <th>558</th>\n",
       "      <td>708</td>\n",
       "      <td>Truth About Cats &amp; Dogs, The (1996)</td>\n",
       "      <td>Comedy|Romance</td>\n",
       "    </tr>\n",
       "    <tr>\n",
       "      <th>599</th>\n",
       "      <td>788</td>\n",
       "      <td>Nutty Professor, The (1996)</td>\n",
       "      <td>Comedy|Fantasy|Romance|Sci-Fi</td>\n",
       "    </tr>\n",
       "    <tr>\n",
       "      <th>886</th>\n",
       "      <td>1210</td>\n",
       "      <td>Star Wars: Episode VI - Return of the Jedi (1983)</td>\n",
       "      <td>Action|Adventure|Sci-Fi</td>\n",
       "    </tr>\n",
       "    <tr>\n",
       "      <th>634</th>\n",
       "      <td>852</td>\n",
       "      <td>Tin Cup (1996)</td>\n",
       "      <td>Comedy|Drama|Romance</td>\n",
       "    </tr>\n",
       "    <tr>\n",
       "      <th>565</th>\n",
       "      <td>719</td>\n",
       "      <td>Multiplicity (1996)</td>\n",
       "      <td>Comedy</td>\n",
       "    </tr>\n",
       "    <tr>\n",
       "      <th>1047</th>\n",
       "      <td>1393</td>\n",
       "      <td>Jerry Maguire (1996)</td>\n",
       "      <td>Drama|Romance</td>\n",
       "    </tr>\n",
       "    <tr>\n",
       "      <th>80</th>\n",
       "      <td>104</td>\n",
       "      <td>Happy Gilmore (1996)</td>\n",
       "      <td>Comedy</td>\n",
       "    </tr>\n",
       "    <tr>\n",
       "      <th>9</th>\n",
       "      <td>14</td>\n",
       "      <td>Nixon (1995)</td>\n",
       "      <td>Drama</td>\n",
       "    </tr>\n",
       "    <tr>\n",
       "      <th>532</th>\n",
       "      <td>661</td>\n",
       "      <td>James and the Giant Peach (1996)</td>\n",
       "      <td>Adventure|Animation|Children|Fantasy|Musical</td>\n",
       "    </tr>\n",
       "    <tr>\n",
       "      <th>587</th>\n",
       "      <td>762</td>\n",
       "      <td>Striptease (1996)</td>\n",
       "      <td>Comedy|Crime</td>\n",
       "    </tr>\n",
       "    <tr>\n",
       "      <th>4</th>\n",
       "      <td>9</td>\n",
       "      <td>Sudden Death (1995)</td>\n",
       "      <td>Action</td>\n",
       "    </tr>\n",
       "    <tr>\n",
       "      <th>621</th>\n",
       "      <td>832</td>\n",
       "      <td>Ransom (1996)</td>\n",
       "      <td>Crime|Thriller</td>\n",
       "    </tr>\n",
       "    <tr>\n",
       "      <th>523</th>\n",
       "      <td>637</td>\n",
       "      <td>Sgt. Bilko (1996)</td>\n",
       "      <td>Comedy</td>\n",
       "    </tr>\n",
       "    <tr>\n",
       "      <th>103</th>\n",
       "      <td>140</td>\n",
       "      <td>Up Close and Personal (1996)</td>\n",
       "      <td>Drama|Romance</td>\n",
       "    </tr>\n",
       "  </tbody>\n",
       "</table>\n",
       "</div>"
      ],
      "text/plain": [
       "      movieId                                              title  \\\n",
       "574       736                                     Twister (1996)   \n",
       "0           1                                   Toy Story (1995)   \n",
       "211       260          Star Wars: Episode IV - A New Hope (1977)   \n",
       "607       802                                  Phenomenon (1996)   \n",
       "12         17                       Sense and Sensibility (1995)   \n",
       "87        112         Rumble in the Bronx (Hont faan kui) (1995)   \n",
       "558       708                Truth About Cats & Dogs, The (1996)   \n",
       "599       788                        Nutty Professor, The (1996)   \n",
       "886      1210  Star Wars: Episode VI - Return of the Jedi (1983)   \n",
       "634       852                                     Tin Cup (1996)   \n",
       "565       719                                Multiplicity (1996)   \n",
       "1047     1393                               Jerry Maguire (1996)   \n",
       "80        104                               Happy Gilmore (1996)   \n",
       "9          14                                       Nixon (1995)   \n",
       "532       661                   James and the Giant Peach (1996)   \n",
       "587       762                                  Striptease (1996)   \n",
       "4           9                                Sudden Death (1995)   \n",
       "621       832                                      Ransom (1996)   \n",
       "523       637                                  Sgt. Bilko (1996)   \n",
       "103       140                       Up Close and Personal (1996)   \n",
       "\n",
       "                                            genres  \n",
       "574              Action|Adventure|Romance|Thriller  \n",
       "0      Adventure|Animation|Children|Comedy|Fantasy  \n",
       "211                        Action|Adventure|Sci-Fi  \n",
       "607                                  Drama|Romance  \n",
       "12                                   Drama|Romance  \n",
       "87                   Action|Adventure|Comedy|Crime  \n",
       "558                                 Comedy|Romance  \n",
       "599                  Comedy|Fantasy|Romance|Sci-Fi  \n",
       "886                        Action|Adventure|Sci-Fi  \n",
       "634                           Comedy|Drama|Romance  \n",
       "565                                         Comedy  \n",
       "1047                                 Drama|Romance  \n",
       "80                                          Comedy  \n",
       "9                                            Drama  \n",
       "532   Adventure|Animation|Children|Fantasy|Musical  \n",
       "587                                   Comedy|Crime  \n",
       "4                                           Action  \n",
       "621                                 Crime|Thriller  \n",
       "523                                         Comedy  \n",
       "103                                  Drama|Romance  "
      ]
     },
     "execution_count": 85,
     "metadata": {},
     "output_type": "execute_result"
    }
   ],
   "source": [
    "# Top 20 movies that the user will hopefully enjoy\n",
    "predictions"
   ]
  },
  {
   "cell_type": "markdown",
   "id": "4ebdc24a",
   "metadata": {},
   "source": [
    "### Model Evaluation\n",
    "Using the Surprise library that provided various ready-to-use powerful prediction algorithms including (SVD) to evaluate its RMSE (Root Mean Squared Error) "
   ]
  },
  {
   "cell_type": "code",
   "execution_count": 148,
   "id": "6e3c98c4",
   "metadata": {},
   "outputs": [],
   "source": [
    "from surprise import Reader, Dataset, SVD\n",
    "from surprise.model_selection import cross_validate\n",
    "# Load Reader library\n",
    "reader = Reader()\n",
    "# Load ratings dataset with Dataset library\n",
    "data = Dataset.load_from_df(df_ratings[['userId', 'movieId', 'rating']], reader) \n",
    "traindata=data.build_full_trainset()"
   ]
  },
  {
   "cell_type": "code",
   "execution_count": 135,
   "id": "ebcfe5dc",
   "metadata": {},
   "outputs": [],
   "source": [
    "svd = SVD()"
   ]
  },
  {
   "cell_type": "code",
   "execution_count": 149,
   "id": "79926538",
   "metadata": {},
   "outputs": [
    {
     "name": "stdout",
     "output_type": "stream",
     "text": [
      "Evaluating RMSE, MAE of algorithm SVD on 5 split(s).\n",
      "\n",
      "                  Fold 1  Fold 2  Fold 3  Fold 4  Fold 5  Mean    Std     \n",
      "RMSE (testset)    0.8687  0.8734  0.8779  0.8756  0.8755  0.8742  0.0031  \n",
      "MAE (testset)     0.6654  0.6718  0.6748  0.6735  0.6723  0.6715  0.0032  \n",
      "Fit time          3.77    3.83    3.82    3.77    3.76    3.79    0.03    \n",
      "Test time         0.11    0.11    0.11    0.11    0.09    0.11    0.01    \n"
     ]
    },
    {
     "data": {
      "text/plain": [
       "{'test_rmse': array([0.86865515, 0.87338834, 0.87793834, 0.87558961, 0.8755131 ]),\n",
       " 'test_mae': array([0.66538826, 0.67179083, 0.67475581, 0.67349597, 0.67231467]),\n",
       " 'fit_time': (3.7705180644989014,\n",
       "  3.828551769256592,\n",
       "  3.8221187591552734,\n",
       "  3.76645827293396,\n",
       "  3.7635369300842285),\n",
       " 'test_time': (0.10982155799865723,\n",
       "  0.11402440071105957,\n",
       "  0.11102509498596191,\n",
       "  0.10979413986206055,\n",
       "  0.09426450729370117)}"
      ]
     },
     "execution_count": 149,
     "metadata": {},
     "output_type": "execute_result"
    }
   ],
   "source": [
    "cross_validate(svd, data , measures=['RMSE','MAE'], cv=5, verbose=True)"
   ]
  },
  {
   "cell_type": "code",
   "execution_count": 122,
   "id": "45d9a939",
   "metadata": {},
   "outputs": [],
   "source": [
    "# We get the RMSE score around 0.87 which is pretty good"
   ]
  },
  {
   "cell_type": "code",
   "execution_count": 124,
   "id": "31ed49e9",
   "metadata": {},
   "outputs": [],
   "source": [
    "# Picking again user with ID 150 and check the ratings he has given."
   ]
  },
  {
   "cell_type": "code",
   "execution_count": 151,
   "id": "4632ac08",
   "metadata": {},
   "outputs": [
    {
     "data": {
      "text/plain": [
       "<surprise.prediction_algorithms.matrix_factorization.SVD at 0x16e228de700>"
      ]
     },
     "execution_count": 151,
     "metadata": {},
     "output_type": "execute_result"
    }
   ],
   "source": [
    "svd.fit(traindata)"
   ]
  },
  {
   "cell_type": "code",
   "execution_count": 152,
   "id": "dd9a8341",
   "metadata": {},
   "outputs": [
    {
     "data": {
      "text/html": [
       "<div>\n",
       "<style scoped>\n",
       "    .dataframe tbody tr th:only-of-type {\n",
       "        vertical-align: middle;\n",
       "    }\n",
       "\n",
       "    .dataframe tbody tr th {\n",
       "        vertical-align: top;\n",
       "    }\n",
       "\n",
       "    .dataframe thead th {\n",
       "        text-align: right;\n",
       "    }\n",
       "</style>\n",
       "<table border=\"1\" class=\"dataframe\">\n",
       "  <thead>\n",
       "    <tr style=\"text-align: right;\">\n",
       "      <th></th>\n",
       "      <th>userId</th>\n",
       "      <th>movieId</th>\n",
       "      <th>rating</th>\n",
       "      <th>timestamp</th>\n",
       "    </tr>\n",
       "  </thead>\n",
       "  <tbody>\n",
       "    <tr>\n",
       "      <th>22277</th>\n",
       "      <td>150</td>\n",
       "      <td>3</td>\n",
       "      <td>3.0</td>\n",
       "      <td>854203124</td>\n",
       "    </tr>\n",
       "    <tr>\n",
       "      <th>22278</th>\n",
       "      <td>150</td>\n",
       "      <td>5</td>\n",
       "      <td>3.0</td>\n",
       "      <td>854203124</td>\n",
       "    </tr>\n",
       "    <tr>\n",
       "      <th>22279</th>\n",
       "      <td>150</td>\n",
       "      <td>6</td>\n",
       "      <td>4.0</td>\n",
       "      <td>854203123</td>\n",
       "    </tr>\n",
       "    <tr>\n",
       "      <th>22280</th>\n",
       "      <td>150</td>\n",
       "      <td>7</td>\n",
       "      <td>3.0</td>\n",
       "      <td>854203124</td>\n",
       "    </tr>\n",
       "    <tr>\n",
       "      <th>22281</th>\n",
       "      <td>150</td>\n",
       "      <td>25</td>\n",
       "      <td>4.0</td>\n",
       "      <td>854203072</td>\n",
       "    </tr>\n",
       "    <tr>\n",
       "      <th>22282</th>\n",
       "      <td>150</td>\n",
       "      <td>32</td>\n",
       "      <td>5.0</td>\n",
       "      <td>854203071</td>\n",
       "    </tr>\n",
       "    <tr>\n",
       "      <th>22283</th>\n",
       "      <td>150</td>\n",
       "      <td>36</td>\n",
       "      <td>4.0</td>\n",
       "      <td>854203123</td>\n",
       "    </tr>\n",
       "    <tr>\n",
       "      <th>22284</th>\n",
       "      <td>150</td>\n",
       "      <td>52</td>\n",
       "      <td>4.0</td>\n",
       "      <td>854203163</td>\n",
       "    </tr>\n",
       "    <tr>\n",
       "      <th>22285</th>\n",
       "      <td>150</td>\n",
       "      <td>58</td>\n",
       "      <td>3.0</td>\n",
       "      <td>854203163</td>\n",
       "    </tr>\n",
       "    <tr>\n",
       "      <th>22286</th>\n",
       "      <td>150</td>\n",
       "      <td>62</td>\n",
       "      <td>3.0</td>\n",
       "      <td>854203072</td>\n",
       "    </tr>\n",
       "    <tr>\n",
       "      <th>22287</th>\n",
       "      <td>150</td>\n",
       "      <td>79</td>\n",
       "      <td>3.0</td>\n",
       "      <td>854203229</td>\n",
       "    </tr>\n",
       "    <tr>\n",
       "      <th>22288</th>\n",
       "      <td>150</td>\n",
       "      <td>95</td>\n",
       "      <td>3.0</td>\n",
       "      <td>854203072</td>\n",
       "    </tr>\n",
       "    <tr>\n",
       "      <th>22289</th>\n",
       "      <td>150</td>\n",
       "      <td>141</td>\n",
       "      <td>5.0</td>\n",
       "      <td>854203072</td>\n",
       "    </tr>\n",
       "    <tr>\n",
       "      <th>22290</th>\n",
       "      <td>150</td>\n",
       "      <td>376</td>\n",
       "      <td>3.0</td>\n",
       "      <td>854203124</td>\n",
       "    </tr>\n",
       "    <tr>\n",
       "      <th>22291</th>\n",
       "      <td>150</td>\n",
       "      <td>494</td>\n",
       "      <td>3.0</td>\n",
       "      <td>854203124</td>\n",
       "    </tr>\n",
       "    <tr>\n",
       "      <th>22292</th>\n",
       "      <td>150</td>\n",
       "      <td>608</td>\n",
       "      <td>4.0</td>\n",
       "      <td>854203123</td>\n",
       "    </tr>\n",
       "    <tr>\n",
       "      <th>22293</th>\n",
       "      <td>150</td>\n",
       "      <td>628</td>\n",
       "      <td>3.0</td>\n",
       "      <td>854203229</td>\n",
       "    </tr>\n",
       "    <tr>\n",
       "      <th>22294</th>\n",
       "      <td>150</td>\n",
       "      <td>648</td>\n",
       "      <td>4.0</td>\n",
       "      <td>854203072</td>\n",
       "    </tr>\n",
       "    <tr>\n",
       "      <th>22295</th>\n",
       "      <td>150</td>\n",
       "      <td>653</td>\n",
       "      <td>3.0</td>\n",
       "      <td>854203163</td>\n",
       "    </tr>\n",
       "    <tr>\n",
       "      <th>22296</th>\n",
       "      <td>150</td>\n",
       "      <td>733</td>\n",
       "      <td>4.0</td>\n",
       "      <td>854203123</td>\n",
       "    </tr>\n",
       "    <tr>\n",
       "      <th>22297</th>\n",
       "      <td>150</td>\n",
       "      <td>780</td>\n",
       "      <td>4.0</td>\n",
       "      <td>854203071</td>\n",
       "    </tr>\n",
       "    <tr>\n",
       "      <th>22298</th>\n",
       "      <td>150</td>\n",
       "      <td>784</td>\n",
       "      <td>3.0</td>\n",
       "      <td>854203163</td>\n",
       "    </tr>\n",
       "    <tr>\n",
       "      <th>22299</th>\n",
       "      <td>150</td>\n",
       "      <td>786</td>\n",
       "      <td>3.0</td>\n",
       "      <td>854203163</td>\n",
       "    </tr>\n",
       "    <tr>\n",
       "      <th>22300</th>\n",
       "      <td>150</td>\n",
       "      <td>805</td>\n",
       "      <td>4.0</td>\n",
       "      <td>854203230</td>\n",
       "    </tr>\n",
       "    <tr>\n",
       "      <th>22301</th>\n",
       "      <td>150</td>\n",
       "      <td>1073</td>\n",
       "      <td>3.0</td>\n",
       "      <td>854203163</td>\n",
       "    </tr>\n",
       "    <tr>\n",
       "      <th>22302</th>\n",
       "      <td>150</td>\n",
       "      <td>1356</td>\n",
       "      <td>5.0</td>\n",
       "      <td>854203229</td>\n",
       "    </tr>\n",
       "  </tbody>\n",
       "</table>\n",
       "</div>"
      ],
      "text/plain": [
       "       userId  movieId  rating  timestamp\n",
       "22277     150        3     3.0  854203124\n",
       "22278     150        5     3.0  854203124\n",
       "22279     150        6     4.0  854203123\n",
       "22280     150        7     3.0  854203124\n",
       "22281     150       25     4.0  854203072\n",
       "22282     150       32     5.0  854203071\n",
       "22283     150       36     4.0  854203123\n",
       "22284     150       52     4.0  854203163\n",
       "22285     150       58     3.0  854203163\n",
       "22286     150       62     3.0  854203072\n",
       "22287     150       79     3.0  854203229\n",
       "22288     150       95     3.0  854203072\n",
       "22289     150      141     5.0  854203072\n",
       "22290     150      376     3.0  854203124\n",
       "22291     150      494     3.0  854203124\n",
       "22292     150      608     4.0  854203123\n",
       "22293     150      628     3.0  854203229\n",
       "22294     150      648     4.0  854203072\n",
       "22295     150      653     3.0  854203163\n",
       "22296     150      733     4.0  854203123\n",
       "22297     150      780     4.0  854203071\n",
       "22298     150      784     3.0  854203163\n",
       "22299     150      786     3.0  854203163\n",
       "22300     150      805     4.0  854203230\n",
       "22301     150     1073     3.0  854203163\n",
       "22302     150     1356     5.0  854203229"
      ]
     },
     "execution_count": 152,
     "metadata": {},
     "output_type": "execute_result"
    }
   ],
   "source": [
    "df_ratings[df_ratings['userId'] == 150]"
   ]
  },
  {
   "cell_type": "code",
   "execution_count": 153,
   "id": "d603e752",
   "metadata": {},
   "outputs": [
    {
     "data": {
      "text/plain": [
       "Prediction(uid=150, iid=1994, r_ui=None, est=3.6135104387580097, details={'was_impossible': False})"
      ]
     },
     "execution_count": 153,
     "metadata": {},
     "output_type": "execute_result"
    }
   ],
   "source": [
    "# Now let's use SVD to predict the rating that User with ID 150 will give to a random movie (let's say with Movie ID 1994).\n",
    "svd.predict(150, 1994)"
   ]
  },
  {
   "cell_type": "code",
   "execution_count": 154,
   "id": "ab2ea62d",
   "metadata": {},
   "outputs": [],
   "source": [
    "# For movie with ID 1994, I get an estimated prediction of 3.18210. \n",
    "#The recommender system works purely on the basis of an assigned movie ID and tries to predict ratings based on how the other users have predicted the movie."
   ]
  },
  {
   "cell_type": "code",
   "execution_count": 155,
   "id": "072c48cc",
   "metadata": {},
   "outputs": [
    {
     "data": {
      "text/plain": [
       "Prediction(uid=150, iid=100, r_ui=None, est=3.3338829100687852, details={'was_impossible': False})"
      ]
     },
     "execution_count": 155,
     "metadata": {},
     "output_type": "execute_result"
    }
   ],
   "source": [
    "svd.predict(150, 100)"
   ]
  },
  {
   "cell_type": "code",
   "execution_count": 156,
   "id": "d9ae2834",
   "metadata": {},
   "outputs": [
    {
     "data": {
      "text/plain": [
       "Prediction(uid=150, iid=194, r_ui=None, est=3.6493772692784416, details={'was_impossible': False})"
      ]
     },
     "execution_count": 156,
     "metadata": {},
     "output_type": "execute_result"
    }
   ],
   "source": [
    "svd.predict(150, 194)"
   ]
  },
  {
   "cell_type": "markdown",
   "id": "b303050e",
   "metadata": {},
   "source": [
    "## Hybrid Model\n",
    "Combining the Content Based Filtering + Svd model for better predictions\n",
    "- Runnig Content based filtering and determine the movies which we want to recommend to the user.\n",
    "- Filtering  and sorting  the recommendations of Content Filtering using SVD predicted ratings."
   ]
  },
  {
   "cell_type": "code",
   "execution_count": 157,
   "id": "cc229faa",
   "metadata": {},
   "outputs": [
    {
     "data": {
      "text/plain": [
       "277                      Shawshank Redemption, The (1994)\n",
       "690                             North by Northwest (1959)\n",
       "659                                 Godfather, The (1972)\n",
       "3562                                  Donnie Darko (2001)\n",
       "147                                           Kids (1995)\n",
       "1057               Star Trek II: The Wrath of Khan (1982)\n",
       "251                             Once Were Warriors (1994)\n",
       "2996                                        Snatch (2000)\n",
       "701                              Wizard of Oz, The (1939)\n",
       "2765                 Road Warrior, The (Mad Max 2) (1981)\n",
       "2453    Man Bites Dog (C'est arrivé près de chez vous)...\n",
       "6676                                     In Bruges (2008)\n",
       "158                                     Party Girl (1995)\n",
       "4058          Professional, The (Le professionnel) (1981)\n",
       "1855    Name of the Rose, The (Name der Rose, Der) (1986)\n",
       "1917             Lock, Stock & Two Smoking Barrels (1998)\n",
       "148                             Living in Oblivion (1995)\n",
       "824                               Bonnie and Clyde (1967)\n",
       "6331                                 Prestige, The (2006)\n",
       "974                                     Highlander (1986)\n",
       "793                                       Die Hard (1988)\n",
       "183                                 Before Sunrise (1995)\n",
       "242                            Murder in the First (1995)\n",
       "7014                                          Moon (2009)\n",
       "211                             Heavenly Creatures (1994)\n",
       "52                      Postman, The (Postino, Il) (1994)\n",
       "3854                          Bourne Identity, The (2002)\n",
       "4258                   Irreversible (Irréversible) (2002)\n",
       "4169               Confessions of a Dangerous Mind (2002)\n",
       "561               Some Folks Call It a Sling Blade (1993)\n",
       "Name: title, dtype: object"
      ]
     },
     "execution_count": 157,
     "metadata": {},
     "output_type": "execute_result"
    }
   ],
   "source": [
    "def hybrid_content_svd_model(userId):\n",
    "    \"\"\" \n",
    "    :param userId: userId of user\n",
    "    :return: list of movies recommended with rating given by svd model\n",
    "    \"\"\"\n",
    "    recommended_movies_by_content_model = get_recommendation_content_model(userId)\n",
    "    recommended_movies_by_content_model = df_movies[df_movies.apply(lambda movie: movie[\"title\"] in recommended_movies_by_content_model, axis=1)]\n",
    "    for key, columns in recommended_movies_by_content_model.iterrows():\n",
    "        predict = svd.predict(userId, columns[\"movieId\"])\n",
    "        recommended_movies_by_content_model.loc[key, \"svd_rating\"] = predict.est\n",
    "        recommended_movies_by_content_model=recommended_movies_by_content_model.sort_values(\"svd_rating\", ascending=False)\n",
    "    return recommended_movies_by_content_model['title'].iloc[0:30]\n",
    "\n",
    "hybrid_content_svd_model(150)"
   ]
  },
  {
   "cell_type": "code",
   "execution_count": null,
   "id": "1449ffc0",
   "metadata": {},
   "outputs": [],
   "source": []
  }
 ],
 "metadata": {
  "kernelspec": {
   "display_name": "Python 3 (ipykernel)",
   "language": "python",
   "name": "python3"
  },
  "language_info": {
   "codemirror_mode": {
    "name": "ipython",
    "version": 3
   },
   "file_extension": ".py",
   "mimetype": "text/x-python",
   "name": "python",
   "nbconvert_exporter": "python",
   "pygments_lexer": "ipython3",
   "version": "3.9.7"
  }
 },
 "nbformat": 4,
 "nbformat_minor": 5
}
